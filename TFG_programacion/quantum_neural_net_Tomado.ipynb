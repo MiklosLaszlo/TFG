{
 "cells": [
  {
   "cell_type": "code",
   "execution_count": 1,
   "metadata": {},
   "outputs": [],
   "source": [
    "# This cell is added by sphinx-gallery\n",
    "# It can be customized to whatever you like\n",
    "%matplotlib inline"
   ]
  },
  {
   "cell_type": "markdown",
   "metadata": {},
   "source": [
    "Function fitting with a photonic quantum neural network {#quantum_neural_net}\n",
    "=======================================================\n",
    "\n",
    "::: {.meta}\n",
    ":property=\\\"og:description\\\": Fit to noisy data with a variational\n",
    "quantum circuit. :property=\\\"og:image\\\":\n",
    "<https://pennylane.ai/qml/_images/qnn_output_28_0.png>\n",
    ":::\n",
    "\n",
    "::: {.related}\n",
    "qonn Optimizing a quantum optical neural network pytorch\\_noise PyTorch\n",
    "and noisy devices tutorial\\_noisy\\_circuit\\_optimization Optimizing\n",
    "noisy circuits with Cirq\n",
    ":::\n",
    "\n",
    "*Author: Maria Schuld --- Posted: 11 October 2019. Last updated: 25\n",
    "January 2021.*\n",
    "\n",
    "::: {.warning}\n",
    "::: {.title}\n",
    "Warning\n",
    ":::\n",
    "\n",
    "This demo is only compatible with PennyLane version `0.29` or below.\n",
    ":::\n",
    "\n",
    "In this example we show how a variational circuit can be used to learn a\n",
    "fit for a one-dimensional function when being trained with noisy samples\n",
    "from that function.\n",
    "\n",
    "The variational circuit we use is the continuous-variable quantum neural\n",
    "network model described in [Killoran et al.\n",
    "(2018)](https://arxiv.org/abs/1806.06871).\n",
    "\n",
    "Imports\n",
    "-------\n",
    "\n",
    "We import PennyLane, the wrapped version of NumPy provided by PennyLane,\n",
    "and an optimizer.\n"
   ]
  },
  {
   "cell_type": "code",
   "execution_count": 2,
   "metadata": {},
   "outputs": [],
   "source": [
    "import pennylane as qml\n",
    "from pennylane import numpy as np\n",
    "from pennylane.optimize import AdamOptimizer"
   ]
  },
  {
   "cell_type": "markdown",
   "metadata": {},
   "source": [
    "The device we use is the Strawberry Fields simulator, this time with\n",
    "only one quantum mode (or `wire`). You will need to have the Strawberry\n",
    "Fields plugin for PennyLane installed.\n"
   ]
  },
  {
   "cell_type": "code",
   "execution_count": 3,
   "metadata": {},
   "outputs": [],
   "source": [
    "dev = qml.device(\"strawberryfields.fock\", wires=1, cutoff_dim=10)"
   ]
  },
  {
   "cell_type": "markdown",
   "metadata": {},
   "source": [
    "Quantum node\n",
    "============\n",
    "\n",
    "For a single quantum mode, each layer of the variational circuit is\n",
    "defined as:\n"
   ]
  },
  {
   "cell_type": "code",
   "execution_count": 4,
   "metadata": {},
   "outputs": [],
   "source": [
    "def layer(v):\n",
    "    # Matrix multiplication of input layer\n",
    "    qml.Rotation(v[0], wires=0)\n",
    "    qml.Squeezing(v[1], 0.0, wires=0)\n",
    "    qml.Rotation(v[2], wires=0)\n",
    "    qml.Rotation(v[3], wires=0)\n",
    "    qml.Squeezing(v[4], 0.0, wires=0)\n",
    "    qml.Rotation(v[5], wires=0)\n",
    "\n",
    "    # Bias\n",
    "    qml.Displacement(v[6], 0.0, wires=0)\n",
    "\n",
    "    # Element-wise nonlinear transformation\n",
    "    qml.Kerr(v[7], wires=0)"
   ]
  },
  {
   "cell_type": "markdown",
   "metadata": {},
   "source": [
    "The variational circuit in the quantum node first encodes the input into\n",
    "the displacement of the mode, and then executes the layers. The output\n",
    "is the expectation of the x-quadrature.\n"
   ]
  },
  {
   "cell_type": "code",
   "execution_count": 5,
   "metadata": {},
   "outputs": [],
   "source": [
    "@qml.qnode(dev)\n",
    "def quantum_neural_net(var, x):\n",
    "    # Encode input x into quantum state\n",
    "    qml.Displacement(x, 0.0, wires=0)\n",
    "\n",
    "    # \"layer\" subcircuits\n",
    "    for v in var:\n",
    "        layer(v)\n",
    "\n",
    "    return qml.expval(qml.X(0))"
   ]
  },
  {
   "cell_type": "markdown",
   "metadata": {},
   "source": [
    "Objective\n",
    "=========\n",
    "\n",
    "As an objective we take the square loss between target labels and model\n",
    "predictions.\n"
   ]
  },
  {
   "cell_type": "code",
   "execution_count": 6,
   "metadata": {},
   "outputs": [],
   "source": [
    "def square_loss(labels, predictions):\n",
    "    loss = 0\n",
    "    for l, p in zip(labels, predictions):\n",
    "        loss = loss + (l - p) ** 2\n",
    "\n",
    "    loss = loss / len(labels)\n",
    "    return loss"
   ]
  },
  {
   "cell_type": "markdown",
   "metadata": {},
   "source": [
    "In the cost function, we compute the outputs from the variational\n",
    "circuit. Function fitting is a regression problem, and we interpret the\n",
    "expectations from the quantum node as predictions (i.e., without\n",
    "applying postprocessing such as thresholding).\n"
   ]
  },
  {
   "cell_type": "code",
   "execution_count": 7,
   "metadata": {},
   "outputs": [],
   "source": [
    "def cost(var, features, labels):\n",
    "    preds = [quantum_neural_net(var, x) for x in features]\n",
    "    return square_loss(labels, preds)"
   ]
  },
  {
   "cell_type": "markdown",
   "metadata": {},
   "source": [
    "Optimization\n",
    "============\n",
    "\n",
    "We load noisy data samples of a sine function from the external file\n",
    "`sine.txt`\n",
    "(`<a href=\"https://raw.githubusercontent.com/XanaduAI/pennylane/v0.3.0/examples/data/sine.txt\"\n",
    "download=\"sine.txt\" target=\"_blank\">download the file here</a>`{.interpreted-text\n",
    "role=\"html\"}).\n"
   ]
  },
  {
   "cell_type": "code",
   "execution_count": 8,
   "metadata": {},
   "outputs": [],
   "source": [
    "def Normalizar(lista):\n",
    "    media = np.mean(lista)\n",
    "    dt = lista.std(ddof=0)\n",
    "    lista = (lista-media)/dt\n",
    "    return lista"
   ]
  },
  {
   "cell_type": "code",
   "execution_count": 9,
   "metadata": {},
   "outputs": [],
   "source": [
    "tiempo = np.linspace(0, 4*np.pi-1, num=200)\n",
    "ruido = np.random.normal(size=200)*0.1\n",
    "coseno = np.cos(tiempo) + np.sin(tiempo) + np.cos(5*tiempo) + np.sin(2*tiempo)\n",
    "data = coseno+ruido\n",
    "\n",
    "X = Normalizar(np.array(tiempo, requires_grad=False))\n",
    "Y = Normalizar(np.array(data, requires_grad=False))"
   ]
  },
  {
   "cell_type": "markdown",
   "metadata": {},
   "source": [
    "Before training a model, let\\'s examine the data.\n",
    "\n",
    "*Note: For the next cell to work you need the matplotlib library.*\n"
   ]
  },
  {
   "cell_type": "code",
   "execution_count": 10,
   "metadata": {},
   "outputs": [
    {
     "data": {
      "image/png": "[encoded data removed]",
      "text/plain": [
       "<Figure size 640x480 with 1 Axes>"
      ]
     },
     "metadata": {},
     "output_type": "display_data"
    }
   ],
   "source": [
    "import matplotlib.pyplot as plt\n",
    "\n",
    "plt.figure()\n",
    "plt.scatter(X, Y)\n",
    "plt.xlabel(\"x\", fontsize=18)\n",
    "plt.ylabel(\"f(x)\", fontsize=18)\n",
    "plt.tick_params(axis=\"both\", which=\"major\", labelsize=16)\n",
    "plt.tick_params(axis=\"both\", which=\"minor\", labelsize=16)\n",
    "plt.show()"
   ]
  },
  {
   "cell_type": "markdown",
   "metadata": {},
   "source": [
    "![image](../demonstrations/quantum_neural_net/qnn_output_20_0.png)\n",
    "\n",
    "The network's weights (called `var` here) are initialized with values\n",
    "sampled from a normal distribution. We use 4 layers; performance has\n",
    "been found to plateau at around 6 layers.\n"
   ]
  },
  {
   "cell_type": "code",
   "execution_count": 11,
   "metadata": {
    "scrolled": true
   },
   "outputs": [
    {
     "name": "stdout",
     "output_type": "stream",
     "text": [
      "[[ 0.08820262  0.02000786  0.0489369   0.11204466  0.0933779  -0.04886389\n",
      "   0.04750442 -0.00756786]]\n"
     ]
    }
   ],
   "source": [
    "np.random.seed(0)\n",
    "num_layers = 1\n",
    "var_init = 0.05 * np.random.randn(num_layers, 8, requires_grad=True)\n",
    "print(var_init)"
   ]
  },
  {
   "cell_type": "markdown",
   "metadata": {},
   "source": [
    "::: {.rst-class}\n",
    "sphx-glr-script-out\n",
    "\n",
    "Out:\n",
    "\n",
    "``` {.none}\n",
    "array([[ 0.08820262,  0.02000786,  0.0489369 ,  0.11204466,  0.0933779 ],\n",
    "       [-0.04886389,  0.04750442, -0.00756786, -0.00516094,  0.02052993],\n",
    "       [ 0.00720218,  0.07271368,  0.03805189,  0.00608375,  0.02219316],\n",
    "       [ 0.01668372,  0.07470395, -0.01025791,  0.01565339, -0.04270479]])\n",
    "```\n",
    ":::\n",
    "\n",
    "Using the Adam optimizer, we update the weights for 500 steps (this\n",
    "takes some time). More steps will lead to a better fit.\n"
   ]
  },
  {
   "cell_type": "code",
   "execution_count": 12,
   "metadata": {},
   "outputs": [
    {
     "name": "stdout",
     "output_type": "stream",
     "text": [
      "Iter:     0 | Cost: 5.1643105 \n",
      "inf\n",
      "Iter:     1 | Cost: 4.8725774 \n",
      "0.29173311738420793\n",
      "Iter:     2 | Cost: 4.5442696 \n",
      "0.3283077764223483\n",
      "Iter:     3 | Cost: 4.1882774 \n",
      "0.3559921899271048\n",
      "Iter:     4 | Cost: 3.8121666 \n",
      "0.3761107858434314\n",
      "Iter:     5 | Cost: 3.4230829 \n",
      "0.3890837595632659\n",
      "Iter:     6 | Cost: 3.0284482 \n",
      "0.39463466354024845\n",
      "Iter:     7 | Cost: 2.6364995 \n",
      "0.3919487091330436\n",
      "Iter:     8 | Cost: 2.2566020 \n",
      "0.3798975302679737\n",
      "Iter:     9 | Cost: 1.8992278 \n",
      "0.35737415694779306\n",
      "Iter:    10 | Cost: 1.5754819 \n",
      "0.32374584560690933\n",
      "Iter:    11 | Cost: 1.2960947 \n",
      "0.2793872732141782\n",
      "Iter:    12 | Cost: 1.0699189 \n",
      "0.22617577164745706\n",
      "Iter:    13 | Cost: 0.9021889 \n",
      "0.16773002792027325\n",
      "Iter:    14 | Cost: 0.7930612 \n",
      "0.10912768270990825\n",
      "Iter:    15 | Cost: 0.7370988 \n",
      "0.055962401840897846\n",
      "Iter:    16 | Cost: 0.7241482 \n",
      "0.01295054265368345\n",
      "Iter:    17 | Cost: 0.7414609 \n",
      "0.017312647073653098\n",
      "Iter:    18 | Cost: 0.7762649 \n",
      "0.03480400511060178\n",
      "Iter:    19 | Cost: 0.8178179 \n",
      "0.041553019375129785\n",
      "Iter:    20 | Cost: 0.8583883 \n",
      "0.04057039772542548\n",
      "Iter:    21 | Cost: 0.8932313 \n",
      "0.034842941294544016\n",
      "Iter:    22 | Cost: 0.9199868 \n",
      "0.026755543687403738\n",
      "Iter:    23 | Cost: 0.9379295 \n",
      "0.01794272616972592\n",
      "Iter:    24 | Cost: 0.9473229 \n",
      "0.009393416181768699\n",
      "Iter:    25 | Cost: 0.9489613 \n",
      "0.0016383352566446963\n",
      "Iter:    26 | Cost: 0.9438850 \n",
      "0.005076295561019961\n",
      "Iter:    27 | Cost: 0.9332232 \n",
      "0.010661799599216315\n",
      "Iter:    28 | Cost: 0.9181161 \n",
      "0.015107096053545321\n",
      "Iter:    29 | Cost: 0.8996812 \n",
      "0.018434936878845787\n",
      "Iter:    30 | Cost: 0.8789987 \n",
      "0.020682495925591793\n",
      "Iter:    31 | Cost: 0.8571020 \n",
      "0.02189665836117527\n",
      "Iter:    32 | Cost: 0.8349650 \n",
      "0.02213698703799316\n",
      "Iter:    33 | Cost: 0.8134834 \n",
      "0.021481593479500627\n",
      "Iter:    34 | Cost: 0.7934506 \n",
      "0.020032792957602297\n",
      "Iter:    35 | Cost: 0.7755301 \n",
      "0.017920496861310697\n",
      "Iter:    36 | Cost: 0.7602281 \n",
      "0.015301993454042151\n",
      "Iter:    37 | Cost: 0.7478708 \n",
      "0.012357361330380012\n",
      "Iter:    38 | Cost: 0.7385903 \n",
      "0.009280444103116459\n",
      "Iter:    39 | Cost: 0.7323242 \n",
      "0.006266125610676632\n",
      "Iter:    40 | Cost: 0.7288287 \n",
      "0.0034954602572323523\n",
      "Iter:    41 | Cost: 0.7277079 \n",
      "0.0011208184616052774\n",
      "Iter:    42 | Cost: 0.7284545 \n",
      "0.0007466041268440193\n",
      "Iter:    43 | Cost: 0.7304994 \n",
      "0.0027914988268105123\n",
      "Iter:    44 | Cost: 0.7332633 \n",
      "0.0027639173178610754\n",
      "Iter:    45 | Cost: 0.7362053 \n",
      "0.002941997048929501\n",
      "Iter:    46 | Cost: 0.7388629 \n",
      "0.0026576011272180233\n",
      "Iter:    47 | Cost: 0.7408805 \n",
      "0.0020175500725453377\n",
      "Iter:    48 | Cost: 0.7420241 \n",
      "0.00114361578255473\n",
      "Iter:    49 | Cost: 0.7421834 \n",
      "0.00015929928622593348\n",
      "Iter:    50 | Cost: 0.7413616 \n",
      "0.000662459335048049\n",
      "Iter:    51 | Cost: 0.7396569 \n",
      "0.002367209080698429\n",
      "Iter:    52 | Cost: 0.7372373 \n",
      "0.0024195470039061195\n",
      "Iter:    53 | Cost: 0.7343140 \n",
      "0.0029233367703862534\n",
      "Iter:    54 | Cost: 0.7311137 \n",
      "0.0032002698787422235\n",
      "Iter:    55 | Cost: 0.7278551 \n",
      "0.0032586079315579664\n",
      "Iter:    56 | Cost: 0.7247291 \n",
      "0.0031260065642493284\n",
      "Iter:    57 | Cost: 0.7218855 \n",
      "0.0028436692266773367\n",
      "Iter:    58 | Cost: 0.7194253 \n",
      "0.002460121667850368\n",
      "Iter:    59 | Cost: 0.7174000 \n",
      "0.002025297132966286\n",
      "Iter:    60 | Cost: 0.7158145 \n",
      "0.0015854917774564825\n",
      "Iter:    61 | Cost: 0.7146350 \n",
      "0.0011795676829046142\n",
      "Iter:    62 | Cost: 0.7137984 \n",
      "0.0008365763615884036\n",
      "Iter:    63 | Cost: 0.7132236 \n",
      "0.0014113581467843916\n",
      "Iter:    64 | Cost: 0.7128217 \n",
      "0.0004019070716198003\n",
      "Iter:    65 | Cost: 0.7125054 \n",
      "0.0007182370133630434\n",
      "Iter:    66 | Cost: 0.7121965 \n",
      "0.0010271487692911085\n",
      "Iter:    67 | Cost: 0.7118313 \n",
      "0.0003651543825966552\n",
      "Iter:    68 | Cost: 0.7113639 \n",
      "0.0008325766157870618\n",
      "Iter:    69 | Cost: 0.7107669 \n",
      "0.0014296028348693701\n",
      "Iter:    70 | Cost: 0.7100308 \n",
      "0.0007360278298829126\n",
      "Iter:    71 | Cost: 0.7091622 \n",
      "0.0016047038540086822\n",
      "Iter:    72 | Cost: 0.7081797 \n",
      "0.000982433483262879\n",
      "Iter:    73 | Cost: 0.7071112 \n",
      "0.002051015891186725\n",
      "Iter:    74 | Cost: 0.7059887 \n",
      "0.001122425902950308\n",
      "Iter:    75 | Cost: 0.7048456 \n",
      "0.0011431220225998073\n",
      "Iter:    76 | Cost: 0.7037124 \n",
      "0.0011332057531998618\n",
      "Iter:    77 | Cost: 0.7026145 \n",
      "0.0010978702015183028\n",
      "Iter:    78 | Cost: 0.7015704 \n",
      "0.0010440911852962476\n",
      "Iter:    79 | Cost: 0.7005907 \n",
      "0.0009796874751977214\n",
      "Iter:    80 | Cost: 0.6996783 \n",
      "0.0018920975121725636\n",
      "Iter:    81 | Cost: 0.6988292 \n",
      "0.0008491462723596577\n",
      "Iter:    82 | Cost: 0.6980339 \n",
      "0.001644455416396462\n",
      "Iter:    83 | Cost: 0.6972794 \n",
      "0.0007544574085632805\n",
      "Iter:    84 | Cost: 0.6965513 \n",
      "0.001482622127673916\n",
      "Iter:    85 | Cost: 0.6958351 \n",
      "0.0007161257846486357\n",
      "Iter:    86 | Cost: 0.6951187 \n",
      "0.0014325869433545746\n",
      "Iter:    87 | Cost: 0.6943925 \n",
      "0.0007261621906993199\n",
      "Iter:    88 | Cost: 0.6936509 \n",
      "0.001467768820961779\n",
      "Iter:    89 | Cost: 0.6928918 \n",
      "0.0007590743145411416\n",
      "Iter:    90 | Cost: 0.6921166 \n",
      "0.001534274923132961\n",
      "Iter:    91 | Cost: 0.6913293 \n",
      "0.0007873207926395454\n",
      "Iter:    92 | Cost: 0.6905356 \n",
      "0.0015809992625407387\n",
      "Iter:    93 | Cost: 0.6897421 \n",
      "0.0007934920012026003\n",
      "Iter:    94 | Cost: 0.6889552 \n",
      "0.001580383929567497\n",
      "Iter:    95 | Cost: 0.6881805 \n",
      "0.0007747569221789874\n",
      "Iter:    96 | Cost: 0.6874220 \n",
      "0.001533241486851189\n",
      "Iter:    97 | Cost: 0.6866823 \n",
      "0.0007397359008101123\n",
      "Iter:    98 | Cost: 0.6859621 \n",
      "0.0014599256690152052\n",
      "Iter:    99 | Cost: 0.6852607 \n",
      "0.0007013357283212063\n",
      "Iter:   100 | Cost: 0.6845764 \n",
      "0.0013856604661430794\n",
      "Iter:   101 | Cost: 0.6839065 \n",
      "0.0006698862036527142\n",
      "Iter:   102 | Cost: 0.6832482 \n",
      "0.0013281965589673206\n",
      "Iter:   103 | Cost: 0.6825987 \n",
      "0.0006494870178404\n",
      "Iter:   104 | Cost: 0.6819557 \n",
      "0.0012924735531344433\n",
      "Iter:   105 | Cost: 0.6813176 \n",
      "0.0006381659435755749\n",
      "Iter:   106 | Cost: 0.6806833 \n",
      "0.001272449275231291\n",
      "Iter:   107 | Cost: 0.6800527 \n",
      "0.0006306052079304569\n",
      "Iter:   108 | Cost: 0.6794262 \n",
      "0.001257100227466057\n",
      "Iter:   109 | Cost: 0.6788047 \n",
      "0.0006214751396501628\n",
      "Iter:   110 | Cost: 0.6781895 \n",
      "0.0012367341732256731\n",
      "Iter:   111 | Cost: 0.6775817 \n",
      "0.000607754422520479\n",
      "Iter:   112 | Cost: 0.6769827 \n",
      "0.0012067960959067925\n",
      "Iter:   113 | Cost: 0.6763933 \n",
      "0.0005893340473697162\n",
      "Iter:   114 | Cost: 0.6758144 \n",
      "0.0011682617554711339\n",
      "Iter:   115 | Cost: 0.6752463 \n",
      "0.0005681494948895915\n",
      "Iter:   116 | Cost: 0.6746889 \n",
      "0.001125459049895916\n",
      "Iter:   117 | Cost: 0.6741423 \n",
      "0.0005466642257575538\n",
      "Iter:   118 | Cost: 0.6736059 \n",
      "0.0010830566214721227\n",
      "Iter:   119 | Cost: 0.6730793 \n",
      "0.0005265862889943795\n",
      "Iter:   120 | Cost: 0.6725620 \n",
      "0.001043841826667391\n",
      "Iter:   121 | Cost: 0.6720537 \n",
      "0.0005083417881737162\n",
      "Iter:   122 | Cost: 0.6715540 \n",
      "0.0010080818790042523\n",
      "Iter:   123 | Cost: 0.6710626 \n",
      "0.0004913229993761536\n",
      "Iter:   124 | Cost: 0.6705797 \n",
      "0.0009742865944410983\n",
      "Iter:   125 | Cost: 0.6701051 \n",
      "0.0014488410249566819\n",
      "Iter:   126 | Cost: 0.6696391 \n",
      "0.00046602045000243564\n",
      "Iter:   127 | Cost: 0.6691818 \n",
      "0.000923345563359268\n",
      "Iter:   128 | Cost: 0.6687333 \n",
      "0.0013718155894446582\n",
      "Iter:   129 | Cost: 0.6682938 \n",
      "0.00043948923286663\n",
      "Iter:   130 | Cost: 0.6678634 \n",
      "0.0008699291114496743\n",
      "Iter:   131 | Cost: 0.6674420 \n",
      "0.0012913202692208525\n",
      "Iter:   132 | Cost: 0.6670296 \n",
      "0.0004124133839599198\n",
      "Iter:   133 | Cost: 0.6666260 \n",
      "0.000815982067119192\n",
      "Iter:   134 | Cost: 0.6662311 \n",
      "0.0012108864037814193\n",
      "Iter:   135 | Cost: 0.6658447 \n",
      "0.00038644925668673835\n",
      "Iter:   136 | Cost: 0.6654664 \n",
      "0.0007646628202377936\n",
      "Iter:   137 | Cost: 0.6650963 \n",
      "0.001134853626789778\n",
      "Iter:   138 | Cost: 0.6647339 \n",
      "0.0003623620810445649\n",
      "Iter:   139 | Cost: 0.6643792 \n",
      "0.0007170632341638727\n",
      "Iter:   140 | Cost: 0.6640320 \n",
      "0.0010642429438212364\n",
      "Iter:   141 | Cost: 0.6636922 \n",
      "0.0003397719824735912\n",
      "Iter:   142 | Cost: 0.6633598 \n",
      "0.0006722301861719071\n",
      "Iter:   143 | Cost: 0.6630346 \n",
      "0.0009974567948117796\n",
      "Iter:   144 | Cost: 0.6627165 \n",
      "0.0013155307457116683\n",
      "Iter:   145 | Cost: 0.6624055 \n",
      "0.00031100471410050456\n",
      "Iter:   146 | Cost: 0.6621014 \n",
      "0.0006150340711698066\n",
      "Iter:   147 | Cost: 0.6618043 \n",
      "0.0009121960827334075\n",
      "Iter:   148 | Cost: 0.6615139 \n",
      "0.0012026141403834734\n",
      "Iter:   149 | Cost: 0.6612301 \n",
      "0.000283811944500445\n",
      "Iter:   150 | Cost: 0.6609527 \n",
      "0.0005611674730704452\n",
      "Iter:   151 | Cost: 0.6606816 \n",
      "0.0008322245468503908\n",
      "Iter:   152 | Cost: 0.6604167 \n",
      "0.001097145485205897\n",
      "Iter:   153 | Cost: 0.6601578 \n",
      "0.00025894786786306856\n",
      "Iter:   154 | Cost: 0.6599046 \n",
      "0.0005120836049264943\n",
      "Iter:   155 | Cost: 0.6596572 \n",
      "0.0007595641533104658\n",
      "Iter:   156 | Cost: 0.6594152 \n",
      "0.001001541641652337\n"
     ]
    },
    {
     "name": "stdout",
     "output_type": "stream",
     "text": [
      "Iter:   157 | Cost: 0.6591786 \n",
      "0.00023662187266215717\n",
      "Iter:   158 | Cost: 0.6589471 \n",
      "0.00046803173141773957\n",
      "Iter:   159 | Cost: 0.6587208 \n",
      "0.0006943705924233878\n",
      "Iter:   160 | Cost: 0.6584994 \n",
      "0.000915778253878341\n",
      "Iter:   161 | Cost: 0.6582828 \n",
      "0.0011323945108520084\n",
      "Iter:   162 | Cost: 0.6580708 \n",
      "0.0002119655157259981\n",
      "Iter:   163 | Cost: 0.6578634 \n",
      "0.0004194222479256826\n",
      "Iter:   164 | Cost: 0.6576603 \n",
      "0.0006225134177141323\n",
      "Iter:   165 | Cost: 0.6574614 \n",
      "0.0008213830811615308\n",
      "Iter:   166 | Cost: 0.6572666 \n",
      "0.0010161754176057913\n",
      "Iter:   167 | Cost: 0.6570757 \n",
      "0.00019085845334820828\n",
      "Iter:   168 | Cost: 0.6568887 \n",
      "0.00037792486337528963\n",
      "Iter:   169 | Cost: 0.6567053 \n",
      "0.0005613387032440409\n",
      "Iter:   170 | Cost: 0.6565254 \n",
      "0.0007412365036807422\n",
      "Iter:   171 | Cost: 0.6563489 \n",
      "0.0009177515037561701\n",
      "Iter:   172 | Cost: 0.6561756 \n",
      "0.0010910135301500645\n",
      "Iter:   173 | Cost: 0.6560055 \n",
      "0.00017013554229328154\n",
      "Iter:   174 | Cost: 0.6558383 \n",
      "0.0003372679720016203\n",
      "Iter:   175 | Cost: 0.6556741 \n",
      "0.0005015178416086785\n",
      "Iter:   176 | Cost: 0.6555126 \n",
      "0.0006630032021737176\n",
      "Iter:   177 | Cost: 0.6553538 \n",
      "0.0008218398869017651\n",
      "Iter:   178 | Cost: 0.6551975 \n",
      "0.0009781417232836986\n"
     ]
    }
   ],
   "source": [
    "opt = AdamOptimizer(0.01, beta1=0.9, beta2=0.999)\n",
    "aux = np.Inf\n",
    "var = var_init\n",
    "consecutive = 0\n",
    "for it in range(200):\n",
    "    (var, _, _), _cost = opt.step_and_cost(cost, var, X, Y)\n",
    "    print(\"Iter: {:5d} | Cost: {:0.7f} \".format(it, _cost))\n",
    "    print(np.abs(aux-_cost))\n",
    "    if(np.abs(aux-_cost) < 0.001):\n",
    "        consecutive = consecutive + 1\n",
    "        if(consecutive > 5):\n",
    "            break\n",
    "    else:\n",
    "        consecutive = 0\n",
    "        aux=_cost"
   ]
  },
  {
   "cell_type": "code",
   "execution_count": 20,
   "metadata": {},
   "outputs": [],
   "source": [
    "x_pred = Normalizar(np.linspace(0, 4*np.pi-1, num=1000))\n",
    "\n",
    "predictions = [quantum_neural_net(var, x_) for x_ in x_pred]"
   ]
  },
  {
   "cell_type": "markdown",
   "metadata": {},
   "source": [
    "and plot the shape of the function that the model has \"learned\" from the\n",
    "noisy data (green dots).\n"
   ]
  },
  {
   "cell_type": "code",
   "execution_count": 21,
   "metadata": {},
   "outputs": [
    {
     "data": {
      "image/png": "[encoded data removed]",
      "text/plain": [
       "<Figure size 640x480 with 1 Axes>"
      ]
     },
     "metadata": {},
     "output_type": "display_data"
    }
   ],
   "source": [
    "plt.figure()\n",
    "plt.scatter(X, Y)\n",
    "plt.scatter(x_pred, predictions, color=\"green\")\n",
    "plt.xlabel(\"x\")\n",
    "plt.ylabel(\"f(x)\")\n",
    "plt.tick_params(axis=\"both\", which=\"major\")\n",
    "plt.tick_params(axis=\"both\", which=\"minor\")\n",
    "plt.show()"
   ]
  },
  {
   "cell_type": "markdown",
   "metadata": {},
   "source": [
    "![image](../demonstrations/quantum_neural_net/qnn_output_28_0.png)\n",
    "\n",
    "The model has learned to smooth the noisy data.\n",
    "\n",
    "In fact, we can use PennyLane to look at typical functions that the\n",
    "model produces without being trained at all. The shape of these\n",
    "functions varies significantly with the variance hyperparameter for the\n",
    "weight initialization.\n",
    "\n",
    "Setting this hyperparameter to a small value produces almost linear\n",
    "functions, since all quantum gates in the variational circuit\n",
    "approximately perform the identity transformation in that case. Larger\n",
    "values produce smoothly oscillating functions with a period that depends\n",
    "on the number of layers used (generically, the more layers, the smaller\n",
    "the period).\n"
   ]
  },
  {
   "cell_type": "code",
   "execution_count": 15,
   "metadata": {},
   "outputs": [
    {
     "ename": "IndexError",
     "evalue": "index 7 is out of bounds for axis 0 with size 7",
     "output_type": "error",
     "traceback": [
      "\u001b[0;31m---------------------------------------------------------------------------\u001b[0m",
      "\u001b[0;31mIndexError\u001b[0m                                Traceback (most recent call last)",
      "\u001b[0;32m/tmp/ipykernel_28304/2952655339.py\u001b[0m in \u001b[0;36m<module>\u001b[0;34m\u001b[0m\n\u001b[1;32m      5\u001b[0m \u001b[0;32mfor\u001b[0m \u001b[0mi\u001b[0m \u001b[0;32min\u001b[0m \u001b[0mrange\u001b[0m\u001b[0;34m(\u001b[0m\u001b[0;36m7\u001b[0m\u001b[0;34m)\u001b[0m\u001b[0;34m:\u001b[0m\u001b[0;34m\u001b[0m\u001b[0;34m\u001b[0m\u001b[0m\n\u001b[1;32m      6\u001b[0m     \u001b[0mrnd_var\u001b[0m \u001b[0;34m=\u001b[0m \u001b[0mvariance\u001b[0m \u001b[0;34m*\u001b[0m \u001b[0mnp\u001b[0m\u001b[0;34m.\u001b[0m\u001b[0mrandom\u001b[0m\u001b[0;34m.\u001b[0m\u001b[0mrandn\u001b[0m\u001b[0;34m(\u001b[0m\u001b[0mnum_layers\u001b[0m\u001b[0;34m,\u001b[0m \u001b[0;36m7\u001b[0m\u001b[0;34m)\u001b[0m\u001b[0;34m\u001b[0m\u001b[0;34m\u001b[0m\u001b[0m\n\u001b[0;32m----> 7\u001b[0;31m     \u001b[0mpredictions\u001b[0m \u001b[0;34m=\u001b[0m \u001b[0;34m[\u001b[0m\u001b[0mquantum_neural_net\u001b[0m\u001b[0;34m(\u001b[0m\u001b[0mrnd_var\u001b[0m\u001b[0;34m,\u001b[0m \u001b[0mx_\u001b[0m\u001b[0;34m)\u001b[0m \u001b[0;32mfor\u001b[0m \u001b[0mx_\u001b[0m \u001b[0;32min\u001b[0m \u001b[0mx_pred\u001b[0m\u001b[0;34m]\u001b[0m\u001b[0;34m\u001b[0m\u001b[0;34m\u001b[0m\u001b[0m\n\u001b[0m\u001b[1;32m      8\u001b[0m     \u001b[0mplt\u001b[0m\u001b[0;34m.\u001b[0m\u001b[0mplot\u001b[0m\u001b[0;34m(\u001b[0m\u001b[0mx_pred\u001b[0m\u001b[0;34m,\u001b[0m \u001b[0mpredictions\u001b[0m\u001b[0;34m,\u001b[0m \u001b[0mcolor\u001b[0m\u001b[0;34m=\u001b[0m\u001b[0;34m\"black\"\u001b[0m\u001b[0;34m)\u001b[0m\u001b[0;34m\u001b[0m\u001b[0;34m\u001b[0m\u001b[0m\n\u001b[1;32m      9\u001b[0m \u001b[0mplt\u001b[0m\u001b[0;34m.\u001b[0m\u001b[0mxlabel\u001b[0m\u001b[0;34m(\u001b[0m\u001b[0;34m\"x\"\u001b[0m\u001b[0;34m)\u001b[0m\u001b[0;34m\u001b[0m\u001b[0;34m\u001b[0m\u001b[0m\n",
      "\u001b[0;32m/tmp/ipykernel_28304/2952655339.py\u001b[0m in \u001b[0;36m<listcomp>\u001b[0;34m(.0)\u001b[0m\n\u001b[1;32m      5\u001b[0m \u001b[0;32mfor\u001b[0m \u001b[0mi\u001b[0m \u001b[0;32min\u001b[0m \u001b[0mrange\u001b[0m\u001b[0;34m(\u001b[0m\u001b[0;36m7\u001b[0m\u001b[0;34m)\u001b[0m\u001b[0;34m:\u001b[0m\u001b[0;34m\u001b[0m\u001b[0;34m\u001b[0m\u001b[0m\n\u001b[1;32m      6\u001b[0m     \u001b[0mrnd_var\u001b[0m \u001b[0;34m=\u001b[0m \u001b[0mvariance\u001b[0m \u001b[0;34m*\u001b[0m \u001b[0mnp\u001b[0m\u001b[0;34m.\u001b[0m\u001b[0mrandom\u001b[0m\u001b[0;34m.\u001b[0m\u001b[0mrandn\u001b[0m\u001b[0;34m(\u001b[0m\u001b[0mnum_layers\u001b[0m\u001b[0;34m,\u001b[0m \u001b[0;36m7\u001b[0m\u001b[0;34m)\u001b[0m\u001b[0;34m\u001b[0m\u001b[0;34m\u001b[0m\u001b[0m\n\u001b[0;32m----> 7\u001b[0;31m     \u001b[0mpredictions\u001b[0m \u001b[0;34m=\u001b[0m \u001b[0;34m[\u001b[0m\u001b[0mquantum_neural_net\u001b[0m\u001b[0;34m(\u001b[0m\u001b[0mrnd_var\u001b[0m\u001b[0;34m,\u001b[0m \u001b[0mx_\u001b[0m\u001b[0;34m)\u001b[0m \u001b[0;32mfor\u001b[0m \u001b[0mx_\u001b[0m \u001b[0;32min\u001b[0m \u001b[0mx_pred\u001b[0m\u001b[0;34m]\u001b[0m\u001b[0;34m\u001b[0m\u001b[0;34m\u001b[0m\u001b[0m\n\u001b[0m\u001b[1;32m      8\u001b[0m     \u001b[0mplt\u001b[0m\u001b[0;34m.\u001b[0m\u001b[0mplot\u001b[0m\u001b[0;34m(\u001b[0m\u001b[0mx_pred\u001b[0m\u001b[0;34m,\u001b[0m \u001b[0mpredictions\u001b[0m\u001b[0;34m,\u001b[0m \u001b[0mcolor\u001b[0m\u001b[0;34m=\u001b[0m\u001b[0;34m\"black\"\u001b[0m\u001b[0;34m)\u001b[0m\u001b[0;34m\u001b[0m\u001b[0;34m\u001b[0m\u001b[0m\n\u001b[1;32m      9\u001b[0m \u001b[0mplt\u001b[0m\u001b[0;34m.\u001b[0m\u001b[0mxlabel\u001b[0m\u001b[0;34m(\u001b[0m\u001b[0;34m\"x\"\u001b[0m\u001b[0;34m)\u001b[0m\u001b[0;34m\u001b[0m\u001b[0;34m\u001b[0m\u001b[0m\n",
      "\u001b[0;32m~/anaconda3/lib/python3.9/site-packages/pennylane/qnode.py\u001b[0m in \u001b[0;36m__call__\u001b[0;34m(self, *args, **kwargs)\u001b[0m\n\u001b[1;32m    840\u001b[0m \u001b[0;34m\u001b[0m\u001b[0m\n\u001b[1;32m    841\u001b[0m         \u001b[0;31m# construct the tape\u001b[0m\u001b[0;34m\u001b[0m\u001b[0;34m\u001b[0m\u001b[0m\n\u001b[0;32m--> 842\u001b[0;31m         \u001b[0mself\u001b[0m\u001b[0;34m.\u001b[0m\u001b[0mconstruct\u001b[0m\u001b[0;34m(\u001b[0m\u001b[0margs\u001b[0m\u001b[0;34m,\u001b[0m \u001b[0mkwargs\u001b[0m\u001b[0;34m)\u001b[0m\u001b[0;34m\u001b[0m\u001b[0;34m\u001b[0m\u001b[0m\n\u001b[0m\u001b[1;32m    843\u001b[0m \u001b[0;34m\u001b[0m\u001b[0m\n\u001b[1;32m    844\u001b[0m         \u001b[0mcache\u001b[0m \u001b[0;34m=\u001b[0m \u001b[0mself\u001b[0m\u001b[0;34m.\u001b[0m\u001b[0mexecute_kwargs\u001b[0m\u001b[0;34m.\u001b[0m\u001b[0mget\u001b[0m\u001b[0;34m(\u001b[0m\u001b[0;34m\"cache\"\u001b[0m\u001b[0;34m,\u001b[0m \u001b[0;32mFalse\u001b[0m\u001b[0;34m)\u001b[0m\u001b[0;34m\u001b[0m\u001b[0;34m\u001b[0m\u001b[0m\n",
      "\u001b[0;32m~/anaconda3/lib/python3.9/site-packages/pennylane/qnode.py\u001b[0m in \u001b[0;36mconstruct\u001b[0;34m(self, args, kwargs)\u001b[0m\n\u001b[1;32m    749\u001b[0m             \u001b[0mself\u001b[0m\u001b[0;34m.\u001b[0m\u001b[0minterface\u001b[0m \u001b[0;34m=\u001b[0m \u001b[0mqml\u001b[0m\u001b[0;34m.\u001b[0m\u001b[0mmath\u001b[0m\u001b[0;34m.\u001b[0m\u001b[0mget_interface\u001b[0m\u001b[0;34m(\u001b[0m\u001b[0;34m*\u001b[0m\u001b[0margs\u001b[0m\u001b[0;34m,\u001b[0m \u001b[0;34m*\u001b[0m\u001b[0mlist\u001b[0m\u001b[0;34m(\u001b[0m\u001b[0mkwargs\u001b[0m\u001b[0;34m.\u001b[0m\u001b[0mvalues\u001b[0m\u001b[0;34m(\u001b[0m\u001b[0;34m)\u001b[0m\u001b[0;34m)\u001b[0m\u001b[0;34m)\u001b[0m\u001b[0;34m\u001b[0m\u001b[0;34m\u001b[0m\u001b[0m\n\u001b[1;32m    750\u001b[0m \u001b[0;34m\u001b[0m\u001b[0m\n\u001b[0;32m--> 751\u001b[0;31m         \u001b[0mself\u001b[0m\u001b[0;34m.\u001b[0m\u001b[0m_tape\u001b[0m \u001b[0;34m=\u001b[0m \u001b[0mmake_qscript\u001b[0m\u001b[0;34m(\u001b[0m\u001b[0mself\u001b[0m\u001b[0;34m.\u001b[0m\u001b[0mfunc\u001b[0m\u001b[0;34m)\u001b[0m\u001b[0;34m(\u001b[0m\u001b[0;34m*\u001b[0m\u001b[0margs\u001b[0m\u001b[0;34m,\u001b[0m \u001b[0;34m**\u001b[0m\u001b[0mkwargs\u001b[0m\u001b[0;34m)\u001b[0m\u001b[0;34m\u001b[0m\u001b[0;34m\u001b[0m\u001b[0m\n\u001b[0m\u001b[1;32m    752\u001b[0m         \u001b[0mself\u001b[0m\u001b[0;34m.\u001b[0m\u001b[0m_qfunc_output\u001b[0m \u001b[0;34m=\u001b[0m \u001b[0mself\u001b[0m\u001b[0;34m.\u001b[0m\u001b[0mtape\u001b[0m\u001b[0;34m.\u001b[0m\u001b[0m_qfunc_output\u001b[0m\u001b[0;34m\u001b[0m\u001b[0;34m\u001b[0m\u001b[0m\n\u001b[1;32m    753\u001b[0m \u001b[0;34m\u001b[0m\u001b[0m\n",
      "\u001b[0;32m~/anaconda3/lib/python3.9/site-packages/pennylane/tape/qscript.py\u001b[0m in \u001b[0;36mwrapper\u001b[0;34m(*args, **kwargs)\u001b[0m\n\u001b[1;32m   1369\u001b[0m     \u001b[0;32mdef\u001b[0m \u001b[0mwrapper\u001b[0m\u001b[0;34m(\u001b[0m\u001b[0;34m*\u001b[0m\u001b[0margs\u001b[0m\u001b[0;34m,\u001b[0m \u001b[0;34m**\u001b[0m\u001b[0mkwargs\u001b[0m\u001b[0;34m)\u001b[0m\u001b[0;34m:\u001b[0m\u001b[0;34m\u001b[0m\u001b[0;34m\u001b[0m\u001b[0m\n\u001b[1;32m   1370\u001b[0m         \u001b[0;32mwith\u001b[0m \u001b[0mAnnotatedQueue\u001b[0m\u001b[0;34m(\u001b[0m\u001b[0;34m)\u001b[0m \u001b[0;32mas\u001b[0m \u001b[0mq\u001b[0m\u001b[0;34m:\u001b[0m\u001b[0;34m\u001b[0m\u001b[0;34m\u001b[0m\u001b[0m\n\u001b[0;32m-> 1371\u001b[0;31m             \u001b[0mresult\u001b[0m \u001b[0;34m=\u001b[0m \u001b[0mfn\u001b[0m\u001b[0;34m(\u001b[0m\u001b[0;34m*\u001b[0m\u001b[0margs\u001b[0m\u001b[0;34m,\u001b[0m \u001b[0;34m**\u001b[0m\u001b[0mkwargs\u001b[0m\u001b[0;34m)\u001b[0m\u001b[0;34m\u001b[0m\u001b[0;34m\u001b[0m\u001b[0m\n\u001b[0m\u001b[1;32m   1372\u001b[0m \u001b[0;34m\u001b[0m\u001b[0m\n\u001b[1;32m   1373\u001b[0m         \u001b[0mqscript\u001b[0m \u001b[0;34m=\u001b[0m \u001b[0mQuantumScript\u001b[0m\u001b[0;34m.\u001b[0m\u001b[0mfrom_queue\u001b[0m\u001b[0;34m(\u001b[0m\u001b[0mq\u001b[0m\u001b[0;34m)\u001b[0m\u001b[0;34m\u001b[0m\u001b[0;34m\u001b[0m\u001b[0m\n",
      "\u001b[0;32m/tmp/ipykernel_28304/1667927493.py\u001b[0m in \u001b[0;36mquantum_neural_net\u001b[0;34m(var, x)\u001b[0m\n\u001b[1;32m      6\u001b[0m     \u001b[0;31m# \"layer\" subcircuits\u001b[0m\u001b[0;34m\u001b[0m\u001b[0;34m\u001b[0m\u001b[0m\n\u001b[1;32m      7\u001b[0m     \u001b[0;32mfor\u001b[0m \u001b[0mv\u001b[0m \u001b[0;32min\u001b[0m \u001b[0mvar\u001b[0m\u001b[0;34m:\u001b[0m\u001b[0;34m\u001b[0m\u001b[0;34m\u001b[0m\u001b[0m\n\u001b[0;32m----> 8\u001b[0;31m         \u001b[0mlayer\u001b[0m\u001b[0;34m(\u001b[0m\u001b[0mv\u001b[0m\u001b[0;34m)\u001b[0m\u001b[0;34m\u001b[0m\u001b[0;34m\u001b[0m\u001b[0m\n\u001b[0m\u001b[1;32m      9\u001b[0m \u001b[0;34m\u001b[0m\u001b[0m\n\u001b[1;32m     10\u001b[0m     \u001b[0;32mreturn\u001b[0m \u001b[0mqml\u001b[0m\u001b[0;34m.\u001b[0m\u001b[0mexpval\u001b[0m\u001b[0;34m(\u001b[0m\u001b[0mqml\u001b[0m\u001b[0;34m.\u001b[0m\u001b[0mX\u001b[0m\u001b[0;34m(\u001b[0m\u001b[0;36m0\u001b[0m\u001b[0;34m)\u001b[0m\u001b[0;34m)\u001b[0m\u001b[0;34m\u001b[0m\u001b[0;34m\u001b[0m\u001b[0m\n",
      "\u001b[0;32m/tmp/ipykernel_28304/3123663023.py\u001b[0m in \u001b[0;36mlayer\u001b[0;34m(v)\u001b[0m\n\u001b[1;32m     12\u001b[0m \u001b[0;34m\u001b[0m\u001b[0m\n\u001b[1;32m     13\u001b[0m     \u001b[0;31m# Element-wise nonlinear transformation\u001b[0m\u001b[0;34m\u001b[0m\u001b[0;34m\u001b[0m\u001b[0m\n\u001b[0;32m---> 14\u001b[0;31m     \u001b[0mqml\u001b[0m\u001b[0;34m.\u001b[0m\u001b[0mKerr\u001b[0m\u001b[0;34m(\u001b[0m\u001b[0mv\u001b[0m\u001b[0;34m[\u001b[0m\u001b[0;36m7\u001b[0m\u001b[0;34m]\u001b[0m\u001b[0;34m,\u001b[0m \u001b[0mwires\u001b[0m\u001b[0;34m=\u001b[0m\u001b[0;36m0\u001b[0m\u001b[0;34m)\u001b[0m\u001b[0;34m\u001b[0m\u001b[0;34m\u001b[0m\u001b[0m\n\u001b[0m",
      "\u001b[0;32m~/anaconda3/lib/python3.9/site-packages/pennylane/numpy/tensor.py\u001b[0m in \u001b[0;36m__getitem__\u001b[0;34m(self, *args, **kwargs)\u001b[0m\n\u001b[1;32m    185\u001b[0m \u001b[0;34m\u001b[0m\u001b[0m\n\u001b[1;32m    186\u001b[0m     \u001b[0;32mdef\u001b[0m \u001b[0m__getitem__\u001b[0m\u001b[0;34m(\u001b[0m\u001b[0mself\u001b[0m\u001b[0;34m,\u001b[0m \u001b[0;34m*\u001b[0m\u001b[0margs\u001b[0m\u001b[0;34m,\u001b[0m \u001b[0;34m**\u001b[0m\u001b[0mkwargs\u001b[0m\u001b[0;34m)\u001b[0m\u001b[0;34m:\u001b[0m\u001b[0;34m\u001b[0m\u001b[0;34m\u001b[0m\u001b[0m\n\u001b[0;32m--> 187\u001b[0;31m         \u001b[0mitem\u001b[0m \u001b[0;34m=\u001b[0m \u001b[0msuper\u001b[0m\u001b[0;34m(\u001b[0m\u001b[0;34m)\u001b[0m\u001b[0;34m.\u001b[0m\u001b[0m__getitem__\u001b[0m\u001b[0;34m(\u001b[0m\u001b[0;34m*\u001b[0m\u001b[0margs\u001b[0m\u001b[0;34m,\u001b[0m \u001b[0;34m**\u001b[0m\u001b[0mkwargs\u001b[0m\u001b[0;34m)\u001b[0m\u001b[0;34m\u001b[0m\u001b[0;34m\u001b[0m\u001b[0m\n\u001b[0m\u001b[1;32m    188\u001b[0m \u001b[0;34m\u001b[0m\u001b[0m\n\u001b[1;32m    189\u001b[0m         \u001b[0;32mif\u001b[0m \u001b[0;32mnot\u001b[0m \u001b[0misinstance\u001b[0m\u001b[0;34m(\u001b[0m\u001b[0mitem\u001b[0m\u001b[0;34m,\u001b[0m \u001b[0mtensor\u001b[0m\u001b[0;34m)\u001b[0m\u001b[0;34m:\u001b[0m\u001b[0;34m\u001b[0m\u001b[0;34m\u001b[0m\u001b[0m\n",
      "\u001b[0;31mIndexError\u001b[0m: index 7 is out of bounds for axis 0 with size 7"
     ]
    },
    {
     "data": {
      "text/plain": [
       "<Figure size 640x480 with 0 Axes>"
      ]
     },
     "metadata": {},
     "output_type": "display_data"
    }
   ],
   "source": [
    "variance = 1.0\n",
    "\n",
    "plt.figure()\n",
    "x_pred = np.linspace(-2, 2, 50)\n",
    "for i in range(7):\n",
    "    rnd_var = variance * np.random.randn(num_layers, 7)\n",
    "    predictions = [quantum_neural_net(rnd_var, x_) for x_ in x_pred]\n",
    "    plt.plot(x_pred, predictions, color=\"black\")\n",
    "plt.xlabel(\"x\")\n",
    "plt.ylabel(\"f(x)\")\n",
    "plt.tick_params(axis=\"both\", which=\"major\")\n",
    "plt.tick_params(axis=\"both\", which=\"minor\")\n",
    "plt.show()"
   ]
  },
  {
   "cell_type": "markdown",
   "metadata": {},
   "source": [
    "![image](../demonstrations/quantum_neural_net/qnn_output_30_0.png)\n"
   ]
  },
  {
   "cell_type": "markdown",
   "metadata": {},
   "source": [
    "About the author\n",
    "================\n"
   ]
  }
 ],
 "metadata": {
  "kernelspec": {
   "display_name": "Python 3 (ipykernel)",
   "language": "python",
   "name": "python3"
  },
  "language_info": {
   "codemirror_mode": {
    "name": "ipython",
    "version": 3
   },
   "file_extension": ".py",
   "mimetype": "text/x-python",
   "name": "python",
   "nbconvert_exporter": "python",
   "pygments_lexer": "ipython3",
   "version": "3.9.13"
  }
 },
 "nbformat": 4,
 "nbformat_minor": 1
}
