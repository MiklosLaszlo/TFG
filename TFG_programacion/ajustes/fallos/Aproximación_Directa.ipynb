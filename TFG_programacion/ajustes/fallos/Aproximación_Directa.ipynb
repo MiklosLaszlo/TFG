{
 "cells": [
  {
   "cell_type": "markdown",
   "id": "a455fad5",
   "metadata": {},
   "source": [
    "Aproximación directa del problema, vamos a suponer una solución\n",
    "\n",
    "$$ y = a_0 + a_1 x_{t} + a_2 x_{t-1} + \\dots + a_{m+1} x_{t-m}$$\n",
    "\n",
    "Donde m es el tamaño de la ventana temporal, número de pasos anteriores que vamos a usar.\n",
    "\n",
    "La aproximación la haremos a un paso, es decir $y = x_{t+1}$. Con la misma filosofía se podria asumir que $y = x_{t+n}$ si queremos hacer una aproximacion a n pasos.\n",
    "\n",
    "EL error que usaremos será el cuádratico medio. Teniendo en cuenta que los datos tienen que estar normalizados, la función de coste sería:\n",
    "\n",
    "$$ C_P = (1 - < y , h(x) >)^2 $$\n",
    "\n",
    "Donde h_(x) es la predicción a un paso. Estamos basándonos en la implementación de Quiskit de una circuito variacional que halla polinomios [1](https://learn.qiskit.org/course/ch-demos/variational-quantum-regression)\n",
    "\n",
    "La optimización se realizará por descenso del gradiente estocástico. La derivada parcial repecto a los pesos son:\n",
    "\n",
    "$$ \\dfrac{\\partial C_P}{ \\partial a_0} = 2(1 - <y,1>) $$\n",
    "$$ \\dfrac{\\partial C_P}{ \\partial a_i} = 2(1 - <y,h(x)>) <y , x_{t-i-1}> $$\n",
    "\n",
    "Luego la actualización de los pesos sería:\n",
    "\n",
    "$$ \\begin{pmatrix} a_0^{i+1} \\\\ a_1^{i+1} \\\\ \\vdots \\\\a_{m+1}^{i+1} \\end{pmatrix} = \n",
    "    \\begin{pmatrix} a_0^{i} \\\\ a_1^{i} \\\\ \\vdots \\\\a_{m+1}^{i} \\end{pmatrix} - \n",
    "    \\eta \\dfrac{2}{M}\\sum_{j=1}^M \\begin{pmatrix} (1 - <y_j,1>) \\\\ (1 - <y_j,h(x_j)>) <y_j , x_{j,t-i-1}> \\\\ \\vdots \\\\ (1 - <y_j,h(x_j)>) <y_j , x_{j,t-m}>\\end{pmatrix}\n",
    "$$\n",
    "\n",
    "Donde M es el tamaño del Batch, el cálculo del producto escalar lo haremos en un computador cuántico"
   ]
  },
  {
   "cell_type": "code",
   "execution_count": 1,
   "id": "79e0a120",
   "metadata": {},
   "outputs": [],
   "source": [
    "# Para manejo de datos Clásicos\n",
    "import pandas as pd\n",
    "import numpy as np\n",
    "import matplotlib.pyplot as plt\n",
    "from matplotlib.pylab import rcParams\n",
    "from datetime import datetime\n",
    "\n",
    "# Qiskit\n",
    "import qiskit\n",
    "from qiskit import QuantumCircuit, QuantumRegister, ClassicalRegister\n",
    "from qiskit import Aer, execute\n",
    "import math\n",
    "import random\n",
    "\n",
    "#Minimize\n",
    "from scipy.optimize import minimize\n"
   ]
  },
  {
   "cell_type": "code",
   "execution_count": null,
   "id": "76835d89",
   "metadata": {},
   "outputs": [],
   "source": []
  },
  {
   "cell_type": "markdown",
   "id": "4d692468",
   "metadata": {},
   "source": [
    "Procesemos todos los datos, se pondra directamente todo, en otro Note book se ve paso por paso"
   ]
  },
  {
   "cell_type": "code",
   "execution_count": 2,
   "id": "8c041c57",
   "metadata": {},
   "outputs": [],
   "source": [
    "df=pd.read_csv('./datos/AirPassengers.csv')\n",
    "df['Month']=pd.to_datetime(df['Month'], infer_datetime_format=True)\n",
    "df=df.set_index(['Month'])\n",
    "df_log=np.log(df)\n",
    "data_shift=df_log-df_log.shift()\n",
    "data_shift = data_shift.dropna()\n",
    "\n",
    "# Crear los conjuntos\n",
    "ptrain=0.8\n",
    "pasajeros = np.array(data_shift['#Passengers'])\n",
    "pasajeros_train = pasajeros[:int(pasajeros.shape[0]*0.8)]\n",
    "pasajeros_test = pasajeros[int(pasajeros.shape[0]*0.8):]\n",
    "\n",
    "tiempo = data_shift.drop(['#Passengers'], axis=1)\n",
    "tiempo_train = tiempo.head(int(pasajeros.shape[0]*0.8))\n",
    "tiempo_test = tiempo.tail(pasajeros.shape[0] - int(pasajeros.shape[0]*0.8))\n",
    "\n",
    "# Pasemos a numpy\n",
    "window = 12;\n",
    "tam_train = pasajeros_train.shape[0] - window\n",
    "tam_test = pasajeros_test.shape[0] - window\n",
    "conjunto_train = []\n",
    "objetivo_train = []\n",
    "conjunto_test = []\n",
    "objetivo_test = []\n",
    "\n",
    "for i in range(0,tam_train):\n",
    "    conjunto_train.append(pasajeros_train[0+i:window+i])\n",
    "    objetivo_train.append(pasajeros_train[window+i])\n",
    "\n",
    "for i in range(0,tam_test):\n",
    "    conjunto_test.append(pasajeros_test[0+i:window+i])\n",
    "    objetivo_test.append(pasajeros_test[window+i])\n",
    "    \n",
    "objetivo_train = np.array(objetivo_train)\n",
    "conjunto_train = np.array(conjunto_train)\n",
    "\n",
    "objetivo_test = np.array(objetivo_test)\n",
    "conjunto_test = np.array(conjunto_test)"
   ]
  },
  {
   "cell_type": "markdown",
   "id": "300c1f90",
   "metadata": {},
   "source": [
    "Función que calcula el producto interno entre dos vectores, en particular elementos"
   ]
  },
  {
   "cell_type": "code",
   "execution_count": 3,
   "id": "ad4f5301",
   "metadata": {},
   "outputs": [
    {
     "data": {
      "text/plain": [
       "102"
      ]
     },
     "execution_count": 3,
     "metadata": {},
     "output_type": "execute_result"
    }
   ],
   "source": [
    "len(objetivo_train)"
   ]
  },
  {
   "cell_type": "code",
   "execution_count": 4,
   "id": "1cceab16",
   "metadata": {
    "scrolled": false
   },
   "outputs": [],
   "source": [
    "nqubits = math.ceil(np.log2(len(conjunto_train)))\n",
    "def inner_prod(vec1, vec2):\n",
    "    #first check lengths are equal\n",
    "    if len(vec1) != len(vec2):\n",
    "        raise ValueError('Lengths of states are not equal')\n",
    "        \n",
    "    circ = QuantumCircuit(nqubits+1,1)\n",
    "    vec = np.concatenate((vec1,vec2))/np.sqrt(2)\n",
    "    if(len(vec) != 2**(nqubits+1)):\n",
    "        vec = np.concatenate((vec,np.zeros(2**(nqubits+1) - len(vec))))\n",
    "    \n",
    "    circ.initialize(vec, range(nqubits+1))\n",
    "    circ.h(nqubits)\n",
    "    circ.measure(nqubits,0)\n",
    "\n",
    "    backend = Aer.get_backend('qasm_simulator')\n",
    "    job = execute(circ, backend, shots=20000)\n",
    "\n",
    "    result = job.result()\n",
    "    outputstate = result.get_counts(circ)\n",
    "\n",
    "    if ('0' in outputstate.keys()):\n",
    "        m_sum = float(outputstate[\"0\"])/20000\n",
    "    else:\n",
    "        m_sum = 0\n",
    "     \n",
    "    return 2*m_sum-1"
   ]
  },
  {
   "cell_type": "markdown",
   "id": "8b8a2133",
   "metadata": {},
   "source": [
    "Cambio de paradigma, VAMOS a usar el error cuadrático medio normal, necesitamos calcular el producto escalar entre a y X"
   ]
  },
  {
   "cell_type": "code",
   "execution_count": 5,
   "id": "c670ad3b",
   "metadata": {},
   "outputs": [
    {
     "data": {
      "text/plain": [
       "1.0672959652570082"
      ]
     },
     "execution_count": 5,
     "metadata": {},
     "output_type": "execute_result"
    }
   ],
   "source": [
    "np.linalg.norm(objetivo_train)"
   ]
  },
  {
   "cell_type": "code",
   "execution_count": 6,
   "id": "2dfc46ab",
   "metadata": {},
   "outputs": [
    {
     "data": {
      "text/plain": [
       "array([ 0.09134978,  0.11247798, -0.04348511, -0.07696104,  0.17563257,\n",
       "        0.13185213,  0.        , -0.0732034 , -0.1722459 , -0.15415068,\n",
       "        0.20544397,  0.03509132,  0.03390155,  0.17114826, -0.08803335,\n",
       "        0.05374428,  0.03428907,  0.11152127,  0.        , -0.07836907,\n",
       "       -0.12733942, -0.10398971,  0.12838117,  0.02967577,  0.05129329,\n",
       "        0.06973334, -0.06419316,  0.01098912,  0.17500891,  0.05358425,\n",
       "        0.05085842, -0.14660347, -0.09006082, -0.10477895,  0.12036368,\n",
       "        0.0102565 ,  0.        ,  0.18571715, -0.00424629, -0.02586351,\n",
       "        0.05933944,  0.08288766,  0.02985296, -0.13774193, -0.11620201,\n",
       "       -0.15890128,  0.11034806,  0.01481509, -0.08167803,  0.22314355,\n",
       "       -0.0346355 ,  0.0303711 ,  0.12062799,  0.13447791, -0.03025441,\n",
       "       -0.12334455, -0.12310606, -0.12051602,  0.12051602,  0.05521572,\n",
       "       -0.03789927,  0.1362102 ,  0.00746272,  0.00371058,  0.15415068,\n",
       "        0.14458123, -0.04782909, -0.10632159, -0.12987508, -0.14506797,\n",
       "        0.15956097,  0.02135312, -0.02495673,  0.13488427, -0.01269858,\n",
       "        0.01584819,  0.16220441,  0.0991918 , -0.01956053, -0.13176928,\n",
       "       -0.14853269, -0.12146628,  0.12146628,  0.02898754, -0.04546237,\n",
       "        0.16782047, -0.02272825,  0.01991531,  0.17288752,  0.09703209,\n",
       "        0.00429185, -0.14491438, -0.1520901 , -0.129013  ,  0.09679938,\n",
       "        0.01183446, -0.06689423,  0.12959283, -0.03944173,  0.04220035,\n",
       "        0.1809432 ,  0.1210981 ])"
      ]
     },
     "execution_count": 6,
     "metadata": {},
     "output_type": "execute_result"
    }
   ],
   "source": [
    "objetivo_train"
   ]
  },
  {
   "cell_type": "code",
   "execution_count": 7,
   "id": "c2c638c2",
   "metadata": {},
   "outputs": [],
   "source": [
    "def calculate_cost_function(parameters):\n",
    "        \n",
    "    ansatzNorm = np.linalg.norm(parameters)     # normalise ansatz\n",
    "    ansatz = parameters/ansatzNorm\n",
    "    ynorm = np.linalg.norm(objetivo_train)\n",
    "    coste=0\n",
    "    for i in range(len(objetivo_train)):\n",
    "        x = np.insert(conjunto_train[i], 0, 1)\n",
    "        norm_x = np.linalg.norm(x)\n",
    "        produtcto = ansatzNorm*norm_x*inner_prod(x/norm_x,ansatz)\n",
    "        coste = coste + (objetivo_train[i] - produtcto)**2\n",
    "        \n",
    "    return coste"
   ]
  },
  {
   "cell_type": "code",
   "execution_count": 8,
   "id": "a27257b9",
   "metadata": {
    "scrolled": true
   },
   "outputs": [
    {
     "data": {
      "text/plain": [
       "array([2.07950166, 0.73678263, 2.04810009, 1.39296296, 0.92194976,\n",
       "       0.89756793, 0.85215135, 0.97408557, 0.90622995, 0.95213453,\n",
       "       0.8666094 , 0.87517975, 2.24308521])"
      ]
     },
     "execution_count": 8,
     "metadata": {},
     "output_type": "execute_result"
    }
   ],
   "source": [
    "# Entrenamiento\n",
    "x0 = np.ones(window+1)\n",
    "out1 = minimize(calculate_cost_function, x0=x0, method=\"COBYLA\", options={'maxiter':200}, tol=1e-6)\n",
    "\n",
    "params = out1['x']\n",
    "params"
   ]
  },
  {
   "cell_type": "code",
   "execution_count": 9,
   "id": "bc755316",
   "metadata": {
    "scrolled": false
   },
   "outputs": [
    {
     "data": {
      "text/plain": [
       "     fun: 1.2280389505386988\n",
       "   maxcv: 0.0\n",
       " message: 'Optimization terminated successfully.'\n",
       "    nfev: 148\n",
       "  status: 1\n",
       " success: True\n",
       "       x: array([2.07950166, 0.73678263, 2.04810009, 1.39296296, 0.92194976,\n",
       "       0.89756793, 0.85215135, 0.97408557, 0.90622995, 0.95213453,\n",
       "       0.8666094 , 0.87517975, 2.24308521])"
      ]
     },
     "execution_count": 9,
     "metadata": {},
     "output_type": "execute_result"
    }
   ],
   "source": [
    "out1"
   ]
  },
  {
   "cell_type": "code",
   "execution_count": 99,
   "id": "0aff96da",
   "metadata": {},
   "outputs": [],
   "source": [
    "# Segunda normalización ya clásica...\n",
    "def calculate_cost_function2(params1):\n",
    "    coste = 0\n",
    "    for i in range(len(conjunto_train)):\n",
    "        coste = coste + ( objetivo_train[i] - params1[0] - params1[1]*np.insert(conjunto_train[i] ,0,1) @ params.T )**2\n",
    "\n",
    "    return coste"
   ]
  },
  {
   "cell_type": "code",
   "execution_count": 100,
   "id": "cfb46d8c",
   "metadata": {},
   "outputs": [
    {
     "data": {
      "text/plain": [
       "1.1391206774538885"
      ]
     },
     "execution_count": 100,
     "metadata": {},
     "output_type": "execute_result"
    }
   ],
   "source": [
    "np.sum( objetivo_train**2 )"
   ]
  },
  {
   "cell_type": "code",
   "execution_count": 101,
   "id": "e407cdd4",
   "metadata": {},
   "outputs": [
    {
     "data": {
      "text/plain": [
       "array([-0.08521077,  0.0445967 ])"
      ]
     },
     "execution_count": 101,
     "metadata": {},
     "output_type": "execute_result"
    }
   ],
   "source": [
    "# Entrenamiento\n",
    "x0 = [0.5,0.5]\n",
    "out2 = minimize(calculate_cost_function2, x0=x0, method=\"L-BFGS-B\", options={'maxiter':20000}, tol=1e-6)\n",
    "\n",
    "params_nor = out2['x']\n",
    "params_nor"
   ]
  },
  {
   "cell_type": "code",
   "execution_count": 102,
   "id": "27ae392a",
   "metadata": {},
   "outputs": [],
   "source": [
    "y_ = []\n",
    "for i in range(len(conjunto_train)):\n",
    "    y_.append(np.insert(conjunto_train[i] ,0,1) @ params.T)\n",
    "y_ = params_nor[0] + params_nor[1]*np.array(y_)\n",
    "espacio = np.arange(len(conjunto_train))"
   ]
  },
  {
   "cell_type": "code",
   "execution_count": 103,
   "id": "d7ae21c9",
   "metadata": {
    "scrolled": false
   },
   "outputs": [
    {
     "data": {
      "image/png": "[encoded data removed]",
      "text/plain": [
       "<Figure size 640x480 with 1 Axes>"
      ]
     },
     "metadata": {},
     "output_type": "display_data"
    }
   ],
   "source": [
    "plt.plot(espacio, y_, marker='^', color='blue')\n",
    "plt.plot(espacio, objetivo_train, marker='o', color='red')\n",
    "plt.show()"
   ]
  },
  {
   "cell_type": "code",
   "execution_count": 104,
   "id": "528e75a3",
   "metadata": {},
   "outputs": [
    {
     "data": {
      "text/plain": [
       "1.1116713664169273"
      ]
     },
     "execution_count": 104,
     "metadata": {},
     "output_type": "execute_result"
    }
   ],
   "source": [
    "calculate_cost_function2([-0.08521077,  0.0445967 ])"
   ]
  },
  {
   "cell_type": "code",
   "execution_count": 105,
   "id": "9d543b91",
   "metadata": {},
   "outputs": [
    {
     "data": {
      "text/plain": [
       "2.1270987591991757"
      ]
     },
     "execution_count": 105,
     "metadata": {},
     "output_type": "execute_result"
    }
   ],
   "source": [
    "calculate_cost_function2([-0.08521077,  0.0445967*2 ])"
   ]
  },
  {
   "cell_type": "code",
   "execution_count": null,
   "id": "ac5457c7",
   "metadata": {},
   "outputs": [],
   "source": []
  }
 ],
 "metadata": {
  "kernelspec": {
   "display_name": "Python 3 (ipykernel)",
   "language": "python",
   "name": "python3"
  },
  "language_info": {
   "codemirror_mode": {
    "name": "ipython",
    "version": 3
   },
   "file_extension": ".py",
   "mimetype": "text/x-python",
   "name": "python",
   "nbconvert_exporter": "python",
   "pygments_lexer": "ipython3",
   "version": "3.9.13"
  }
 },
 "nbformat": 4,
 "nbformat_minor": 5
}
