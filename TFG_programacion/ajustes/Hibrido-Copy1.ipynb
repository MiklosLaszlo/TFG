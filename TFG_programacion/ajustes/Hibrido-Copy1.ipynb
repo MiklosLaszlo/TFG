{
 "cells": [
  {
   "cell_type": "code",
   "execution_count": null,
   "id": "0ff22a7c",
   "metadata": {},
   "outputs": [],
   "source": []
  },
  {
   "cell_type": "code",
   "execution_count": null,
   "id": "5db77db0",
   "metadata": {},
   "outputs": [],
   "source": []
  },
  {
   "cell_type": "code",
   "execution_count": 5,
   "id": "f1578d82",
   "metadata": {},
   "outputs": [
    {
     "data": {
      "text/plain": [
       "<torch._C.Generator at 0x7f72e009a4d0>"
      ]
     },
     "execution_count": 5,
     "metadata": {},
     "output_type": "execute_result"
    }
   ],
   "source": [
    "import pandas as pd\n",
    "import numpy as np\n",
    "import matplotlib.pyplot as plt\n",
    "from matplotlib.pylab import rcParams\n",
    "from datetime import datetime\n",
    "from IPython.display import clear_output\n",
    "\n",
    "#Torch\n",
    "from torch import Tensor\n",
    "from torch.nn import Linear, CrossEntropyLoss, MSELoss\n",
    "from torch.optim import LBFGS\n",
    "\n",
    "# Additional torch-related imports\n",
    "import torch\n",
    "from torch import cat, no_grad, manual_seed\n",
    "from torch.utils.data import Dataset, DataLoader\n",
    "import torch.optim as optim\n",
    "from torch import nn\n",
    "import torch.nn.functional as F\n",
    "\n",
    "\n",
    "\n",
    "#Sklearn\n",
    "from sklearn.preprocessing import MinMaxScaler\n",
    "\n",
    "#Circuitos\n",
    "from qiskit import QuantumCircuit, ClassicalRegister, QuantumRegister, Aer, transpile\n",
    "from qiskit.quantum_info.operators import Operator, Pauli\n",
    "from qiskit.quantum_info.operators.predicates import is_unitary_matrix\n",
    "from qiskit.quantum_info import SparsePauliOp # Necesito un obsevable en concreto...\n",
    "\n",
    "\n",
    "from qiskit.circuit import Parameter\n",
    "from qiskit.circuit.library import RealAmplitudes, ZFeatureMap, ZZFeatureMap, QFT\n",
    "from qiskit.circuit import ParameterVector\n",
    "from qiskit.utils import algorithm_globals\n",
    "\n",
    "\n",
    "# ML\n",
    "from qiskit.algorithms.optimizers import COBYLA, L_BFGS_B\n",
    "from qiskit_machine_learning.algorithms.classifiers import NeuralNetworkClassifier, VQC\n",
    "from qiskit_machine_learning.algorithms.regressors import NeuralNetworkRegressor, VQR\n",
    "from qiskit_machine_learning.neural_networks import SamplerQNN, EstimatorQNN\n",
    "from qiskit_machine_learning.neural_networks import SamplerQNN, EstimatorQNN\n",
    "from qiskit_machine_learning.connectors import TorchConnector\n",
    "\n",
    "manual_seed(444422)"
   ]
  },
  {
   "cell_type": "code",
   "execution_count": 19,
   "id": "bbacd52d",
   "metadata": {},
   "outputs": [
    {
     "data": {
      "text/html": [
       "<pre style=\"word-wrap: normal;white-space: pre;background: #fff0;line-height: 1.1;font-family: &quot;Courier New&quot;,Courier,monospace\">     ┌─────────┐┌──────────────────┐     ┌──────────────────┐»\n",
       "q_0: ┤ U2(0,π) ├┤ R(inputs[0],π/2) ├──■──┤ R(inputs[0],π/2) ├»\n",
       "     ├─────────┤├──────────────────┤┌─┴─┐└──────────────────┘»\n",
       "q_1: ┤ U2(0,π) ├┤ R(inputs[1],π/2) ├┤ X ├─────────■──────────»\n",
       "     ├─────────┤├──────────────────┤└───┘       ┌─┴─┐        »\n",
       "q_2: ┤ U2(0,π) ├┤ R(inputs[2],π/2) ├────────────┤ X ├────────»\n",
       "     └─────────┘└──────────────────┘            └───┘        »\n",
       "«                            ┌───┐                         ┌──────────┐»\n",
       "«q_0: ─────────────────────X─┤ H ├─■──────────────■────────┤ Ry(θ[0]) ├»\n",
       "«     ┌──────────────────┐ │ └───┘ │P(-π/2) ┌───┐ │        └──────────┘»\n",
       "«q_1: ┤ R(inputs[1],π/2) ├─┼───────■────────┤ H ├─┼──────────■─────────»\n",
       "«     ├──────────────────┤ │                └───┘ │P(-π/4)   │P(-π/2)  »\n",
       "«q_2: ┤ R(inputs[2],π/2) ├─X──────────────────────■──────────■─────────»\n",
       "«     └──────────────────┘                                             »\n",
       "«                                              ┌──────────┐                 »\n",
       "«q_0: ──────────────────────────────────■──────┤ Ry(θ[3]) ├──────────■──────»\n",
       "«     ┌──────────┐                    ┌─┴─┐    ├──────────┤        ┌─┴─┐    »\n",
       "«q_1: ┤ Ry(θ[1]) ├──────────────■─────┤ X ├────┤ Ry(θ[4]) ├──■─────┤ X ├────»\n",
       "«     └──┬───┬───┘┌──────────┐┌─┴─┐┌──┴───┴───┐└──────────┘┌─┴─┐┌──┴───┴───┐»\n",
       "«q_2: ───┤ H ├────┤ Ry(θ[2]) ├┤ X ├┤ Ry(θ[5]) ├────────────┤ X ├┤ Ry(θ[8]) ├»\n",
       "«        └───┘    └──────────┘└───┘└──────────┘            └───┘└──────────┘»\n",
       "«     ┌──────────┐\n",
       "«q_0: ┤ Ry(θ[6]) ├\n",
       "«     ├──────────┤\n",
       "«q_1: ┤ Ry(θ[7]) ├\n",
       "«     └──────────┘\n",
       "«q_2: ────────────\n",
       "«                 </pre>"
      ],
      "text/plain": [
       "     ┌─────────┐┌──────────────────┐     ┌──────────────────┐»\n",
       "q_0: ┤ U2(0,π) ├┤ R(inputs[0],π/2) ├──■──┤ R(inputs[0],π/2) ├»\n",
       "     ├─────────┤├──────────────────┤┌─┴─┐└──────────────────┘»\n",
       "q_1: ┤ U2(0,π) ├┤ R(inputs[1],π/2) ├┤ X ├─────────■──────────»\n",
       "     ├─────────┤├──────────────────┤└───┘       ┌─┴─┐        »\n",
       "q_2: ┤ U2(0,π) ├┤ R(inputs[2],π/2) ├────────────┤ X ├────────»\n",
       "     └─────────┘└──────────────────┘            └───┘        »\n",
       "«                            ┌───┐                         ┌──────────┐»\n",
       "«q_0: ─────────────────────X─┤ H ├─■──────────────■────────┤ Ry(θ[0]) ├»\n",
       "«     ┌──────────────────┐ │ └───┘ │P(-π/2) ┌───┐ │        └──────────┘»\n",
       "«q_1: ┤ R(inputs[1],π/2) ├─┼───────■────────┤ H ├─┼──────────■─────────»\n",
       "«     ├──────────────────┤ │                └───┘ │P(-π/4)   │P(-π/2)  »\n",
       "«q_2: ┤ R(inputs[2],π/2) ├─X──────────────────────■──────────■─────────»\n",
       "«     └──────────────────┘                                             »\n",
       "«                                              ┌──────────┐                 »\n",
       "«q_0: ──────────────────────────────────■──────┤ Ry(θ[3]) ├──────────■──────»\n",
       "«     ┌──────────┐                    ┌─┴─┐    ├──────────┤        ┌─┴─┐    »\n",
       "«q_1: ┤ Ry(θ[1]) ├──────────────■─────┤ X ├────┤ Ry(θ[4]) ├──■─────┤ X ├────»\n",
       "«     └──┬───┬───┘┌──────────┐┌─┴─┐┌──┴───┴───┐└──────────┘┌─┴─┐┌──┴───┴───┐»\n",
       "«q_2: ───┤ H ├────┤ Ry(θ[2]) ├┤ X ├┤ Ry(θ[5]) ├────────────┤ X ├┤ Ry(θ[8]) ├»\n",
       "«        └───┘    └──────────┘└───┘└──────────┘            └───┘└──────────┘»\n",
       "«     ┌──────────┐\n",
       "«q_0: ┤ Ry(θ[6]) ├\n",
       "«     ├──────────┤\n",
       "«q_1: ┤ Ry(θ[7]) ├\n",
       "«     └──────────┘\n",
       "«q_2: ────────────\n",
       "«                 "
      ]
     },
     "execution_count": 19,
     "metadata": {},
     "output_type": "execute_result"
    }
   ],
   "source": [
    "n_qubits=3\n",
    "qc = QuantumCircuit(n_qubits)\n",
    "\n",
    "inputs = ParameterVector(\"inputs\",n_qubits)\n",
    "pesos = ParameterVector(\"pesos\",2*n_qubits)\n",
    "feature_map = QuantumCircuit(n_qubits)\n",
    "feature_map.h(range(n_qubits))\n",
    "\n",
    "\n",
    "for i in range(n_qubits):\n",
    "    feature_map.ry(inputs[i],i)\n",
    "\n",
    "for i in range(n_qubits-1):\n",
    "    feature_map.cx(i,i+1)\n",
    "\n",
    "for i in range(n_qubits):\n",
    "    feature_map.ry(inputs[i],i)\n",
    "\n",
    "ansatz = RealAmplitudes(n_qubits,reps=2)\n",
    "#ansatz = QuantumCircuit(n_qubits)\n",
    "#for i in range(n_qubits):\n",
    "#    ansatz.ry(pesos[i],i)\n",
    "#    \n",
    "#for i in range(n_qubits-1):\n",
    "#    ansatz.cz(i,i+1)\n",
    "#\n",
    "#for i in range(n_qubits,2*n_qubits):\n",
    "#    ansatz.ry(pesos[i],i-n_qubits)\n",
    "\n",
    "\n",
    "\n",
    "qc.compose(feature_map, inplace=True)\n",
    "qc.compose(QFT(n_qubits, inverse = True), inplace=True)\n",
    "qc.compose(ansatz, inplace=True)\n",
    "qc.decompose().draw()"
   ]
  },
  {
   "cell_type": "code",
   "execution_count": 2,
   "id": "4cac3625",
   "metadata": {},
   "outputs": [],
   "source": [
    "df=pd.read_csv('./datos/AirPassengers.csv')\n",
    "df['Month']=pd.to_datetime(df['Month'], infer_datetime_format=True)\n",
    "df=df.set_index(['Month'])\n",
    "\n",
    "df_log=np.log(df)\n",
    "data_shift=df_log-df_log.shift()\n",
    "data_shift = data_shift.dropna()"
   ]
  },
  {
   "cell_type": "code",
   "execution_count": 3,
   "id": "9b24a14b",
   "metadata": {},
   "outputs": [],
   "source": [
    "ptrain=0.8\n",
    "pasajeros = np.array(data_shift['#Passengers'])\n",
    "pasajeros_train = pasajeros[:int(pasajeros.shape[0]*0.8)]\n",
    "pasajeros_test = pasajeros[int(pasajeros.shape[0]*0.8):]"
   ]
  },
  {
   "cell_type": "code",
   "execution_count": 4,
   "id": "6f63dc5f",
   "metadata": {},
   "outputs": [],
   "source": [
    "window = 12;\n",
    "tam_train = pasajeros_train.shape[0] - window\n",
    "tam_test = pasajeros_test.shape[0] - window\n",
    "\n",
    "conjunto_train = []\n",
    "objetivo_train = []\n",
    "\n",
    "conjunto_test = []\n",
    "objetivo_test = []\n",
    "\n",
    "for i in range(0,tam_train):\n",
    "    conjunto_train.append(pasajeros_train[0+i:window+i])\n",
    "    objetivo_train.append(pasajeros_train[window+i])\n",
    "    \n",
    "for i in range(0,tam_test):\n",
    "    conjunto_test.append(pasajeros_test[0+i:window+i])\n",
    "    objetivo_test.append(pasajeros_test[window+i])\n",
    "\n",
    "objetivo_train = np.array(objetivo_train)\n",
    "conjunto_train = np.array(conjunto_train)\n",
    "\n",
    "objetivo_test = np.array(objetivo_test)\n",
    "conjunto_test = np.array(conjunto_test)"
   ]
  },
  {
   "cell_type": "code",
   "execution_count": 5,
   "id": "7fdf8752",
   "metadata": {},
   "outputs": [],
   "source": [
    "#scaler = MinMaxScaler((0.3, np.pi-0.3))\n",
    "#conjunto_train = scaler.fit_transform(conjunto_train)\n",
    "#objetivo_train = (-1.6/(np.min(objetivo_train) - np.max(objetivo_train)))*objetivo_train - 0.8 + np.min(objetivo_train)*(1.6/(np.min(objetivo_train) - np.max(objetivo_train)))"
   ]
  },
  {
   "cell_type": "code",
   "execution_count": 17,
   "id": "0172f2cd",
   "metadata": {},
   "outputs": [],
   "source": [
    "class ElecDataset(Dataset):\n",
    "    def __init__(self,feature,target):\n",
    "        self.feature = feature\n",
    "        self.target = target\n",
    "    \n",
    "    def __len__(self):\n",
    "        return len(self.feature)\n",
    "    \n",
    "    def __getitem__(self,idx):\n",
    "        item = self.feature[idx]\n",
    "        label = self.target[idx]\n",
    "        \n",
    "        return item,label"
   ]
  },
  {
   "cell_type": "code",
   "execution_count": 18,
   "id": "5d82c1d3",
   "metadata": {},
   "outputs": [],
   "source": [
    "train = ElecDataset(conjunto_train.reshape(conjunto_train.shape[0],conjunto_train.shape[1],1),objetivo_train)\n",
    "test = ElecDataset(conjunto_test.reshape(conjunto_test.shape[0],conjunto_test.shape[1],1),objetivo_test)\n",
    "train_loader = torch.utils.data.DataLoader(train,batch_size=1,shuffle=False)\n",
    "test_loader = torch.utils.data.DataLoader(test,batch_size=1,shuffle=False)"
   ]
  },
  {
   "cell_type": "code",
   "execution_count": 19,
   "id": "a676de15",
   "metadata": {},
   "outputs": [],
   "source": [
    "def circuitoRegresor_CodificacionAngular(n_qubits=1):\n",
    "    inputs = ParameterVector(\"inputs\",n_qubits)\n",
    "    pesos = ParameterVector(\"pesos\",9*n_qubits)\n",
    "    feature_map = QuantumCircuit(n_qubits)\n",
    "    \n",
    "    for i in range(n_qubits):\n",
    "            feature_map.ry(inputs[i],i)\n",
    "    ansatz = QuantumCircuit(n_qubits)\n",
    "    for j in range(3):\n",
    "        for i in range(n_qubits):\n",
    "            ansatz.rx(pesos[i + 3*j*n_qubits],i)\n",
    "\n",
    "        for i in range(n_qubits):\n",
    "            ansatz.ry(pesos[i + (3*j+1)*n_qubits],i)\n",
    "\n",
    "        for i in range(n_qubits):\n",
    "            ansatz.rz(pesos[i + (3*j+2)*n_qubits],i)\n",
    "\n",
    "        for i in range(n_qubits-1):\n",
    "            ansatz.cx(i,i+1)\n",
    "    qc = QuantumCircuit(n_qubits)\n",
    "    qc.compose(feature_map, inplace=True)\n",
    "    qc.compose(ansatz, inplace=True)\n",
    "    \n",
    "    \n",
    "    \n",
    "    \n",
    "    return feature_map.parameters, ansatz.parameters, qc, feature_map, ansatz"
   ]
  },
  {
   "cell_type": "code",
   "execution_count": 20,
   "id": "8f5a690c",
   "metadata": {},
   "outputs": [],
   "source": [
    "inputs, params, circuito, f1, f2 = circuitoRegresor_CodificacionAngular(2)"
   ]
  },
  {
   "cell_type": "code",
   "execution_count": 21,
   "id": "af53bd57",
   "metadata": {},
   "outputs": [],
   "source": [
    "modelo_cuantico = EstimatorQNN(\n",
    "        circuit=circuito, input_params=inputs, weight_params=params, input_gradients=True\n",
    "    )"
   ]
  },
  {
   "cell_type": "code",
   "execution_count": 22,
   "id": "6811121d",
   "metadata": {},
   "outputs": [],
   "source": [
    "\n",
    "\n",
    "class Net(nn.Module):\n",
    "    def __init__(self, qnn):\n",
    "        super().__init__()\n",
    "        self.fc1 = nn.Linear(12, 2)\n",
    "        self.qnn = TorchConnector(modelo_cuantico)  # Apply torch connector, weights chosen\n",
    "        # uniformly at random from interval [-1,1].\n",
    "        self.fc2 = nn.Linear(1, 1)  # 1-dimensional output from QNN\n",
    "\n",
    "    def forward(self, x):\n",
    "        x = torch.flatten(x)\n",
    "        x = F.relu(self.fc1(x))\n",
    "        x = self.qnn(x)  # apply QNN\n",
    "        x = self.fc2(x)\n",
    "        return x\n",
    "\n",
    "\n"
   ]
  },
  {
   "cell_type": "code",
   "execution_count": 23,
   "id": "7542f061",
   "metadata": {},
   "outputs": [],
   "source": [
    "redHibrida = Net(modelo_cuantico).double()\n",
    "optimizer = torch.optim.Adam(redHibrida.parameters(), lr=0.001)\n",
    "criterion = nn.MSELoss()"
   ]
  },
  {
   "cell_type": "code",
   "execution_count": 24,
   "id": "33a83599",
   "metadata": {},
   "outputs": [
    {
     "data": {
      "text/plain": [
       "34"
      ]
     },
     "execution_count": 24,
     "metadata": {},
     "output_type": "execute_result"
    }
   ],
   "source": [
    "# Numero de parametros\n",
    "total_params = sum(\n",
    "\tparam.numel() for param in redHibrida.parameters()\n",
    ")\n",
    "total_params"
   ]
  },
  {
   "cell_type": "code",
   "execution_count": null,
   "id": "0e9dac8c",
   "metadata": {
    "scrolled": true
   },
   "outputs": [
    {
     "name": "stdout",
     "output_type": "stream",
     "text": [
      "Training 1/200\tLoss: 0.04318880409276349558\n",
      "Training 2/200\tLoss: 0.01546802698724370623\n",
      "Training 3/200\tLoss: 0.01141656130288364740\n",
      "Training 4/200\tLoss: 0.01104332504070018248\n",
      "Training 5/200\tLoss: 0.01102457504146485238\n",
      "Training 6/200\tLoss: 0.01102705096086325012\n",
      "Training 7/200\tLoss: 0.01102950950685701974\n",
      "Training 8/200\tLoss: 0.01103141806736477465\n",
      "Training 9/200\tLoss: 0.01103295745359870149\n",
      "Training 10/200\tLoss: 0.01103423004099065609\n",
      "Training 11/200\tLoss: 0.01103529739698221393\n",
      "Training 12/200\tLoss: 0.01103620192123913601\n",
      "Training 13/200\tLoss: 0.01103697477790671448\n",
      "Training 14/200\tLoss: 0.01103763963218749866\n",
      "Training 15/200\tLoss: 0.01103821484463279705\n",
      "Training 16/200\tLoss: 0.01103871490467381658\n",
      "Training 17/200\tLoss: 0.01103915141383703460\n",
      "Training 18/200\tLoss: 0.01103953377966923090\n",
      "Training 19/200\tLoss: 0.01103986971620225799\n",
      "Training 20/200\tLoss: 0.01104016561160326565\n",
      "Training 21/200\tLoss: 0.01104042680270691558\n",
      "Training 22/200\tLoss: 0.01104065778305595227\n",
      "Training 23/200\tLoss: 0.01104086236267816032\n",
      "Training 24/200\tLoss: 0.01104104379230731042\n",
      "Training 25/200\tLoss: 0.01104120486105226659\n",
      "Training 26/200\tLoss: 0.01104134797398988871\n",
      "Training 27/200\tLoss: 0.01104147521440271285\n",
      "Training 28/200\tLoss: 0.01104158839414634032\n",
      "Training 29/200\tLoss: 0.01104168909474899894\n",
      "Training 30/200\tLoss: 0.01104177870120751602\n",
      "Training 31/200\tLoss: 0.01104185842997759855\n",
      "Training 32/200\tLoss: 0.01104192935231086865\n",
      "Training 33/200\tLoss: 0.01104199241383358419\n",
      "Training 34/200\tLoss: 0.01104204845106774961\n",
      "Training 35/200\tLoss: 0.01104209820544720111\n",
      "Training 36/200\tLoss: 0.01104214233526847055\n",
      "Training 37/200\tLoss: 0.01104218142592789352\n",
      "Training 38/200\tLoss: 0.01104221599872886456\n",
      "Training 39/200\tLoss: 0.01104224651848919117\n",
      "Training 40/200\tLoss: 0.01104227340013633034\n",
      "Training 41/200\tLoss: 0.01104229701444480599\n",
      "Training 42/200\tLoss: 0.01104231769304303383\n",
      "Training 43/200\tLoss: 0.01104233573279536640\n",
      "Training 44/200\tLoss: 0.01104235139964763329\n",
      "Training 45/200\tLoss: 0.01104236493200990571\n",
      "Training 46/200\tLoss: 0.01104237654373927020\n",
      "Training 47/200\tLoss: 0.01104238642677499507\n",
      "Training 48/200\tLoss: 0.01104239475347125639\n",
      "Training 49/200\tLoss: 0.01104240167866554073\n",
      "Training 50/200\tLoss: 0.01104240734151567573\n",
      "Training 51/200\tLoss: 0.01104241186713370362\n",
      "Training 52/200\tLoss: 0.01104241536804097604\n",
      "Training 53/200\tLoss: 0.01104241794546552934\n",
      "Training 54/200\tLoss: 0.01104241969050026237\n",
      "Training 55/200\tLoss: 0.01104242068513765045\n",
      "Training 56/200\tLoss: 0.01104242100319520123\n",
      "Training 57/200\tLoss: 0.01104242071114373142\n",
      "Training 58/200\tLoss: 0.01104241986884932358\n",
      "Training 59/200\tLoss: 0.01104241853023827692\n",
      "Training 60/200\tLoss: 0.01104241674389361792\n",
      "Training 61/200\tLoss: 0.01104241455359019838\n",
      "Training 62/200\tLoss: 0.01104241199877538208\n",
      "Training 63/200\tLoss: 0.01104240911500053816\n",
      "Training 64/200\tLoss: 0.01104240593430906234\n",
      "Training 65/200\tLoss: 0.01104240248558490713\n",
      "Training 66/200\tLoss: 0.01104239879486625976\n",
      "Training 67/200\tLoss: 0.01104239488562753536\n",
      "Training 68/200\tLoss: 0.01104239077903319474\n",
      "Training 69/200\tLoss: 0.01104238649416611033\n",
      "Training 70/200\tLoss: 0.01104238204823325409\n",
      "Training 71/200\tLoss: 0.01104237745675078555\n",
      "Training 72/200\tLoss: 0.01104237273371079693\n"
     ]
    }
   ],
   "source": [
    "redHibrida.train()\n",
    "epochs = 200  # Set number of epochs\n",
    "loss_list = []  # Store loss history\n",
    "\n",
    "for epoch in range(epochs):\n",
    "    total_loss = []\n",
    "    for batch_idx, (data, target) in enumerate(train_loader):\n",
    "        optimizer.zero_grad(set_to_none=True)  # Initialize gradient\n",
    "        output = redHibrida(data)  # Forward pass\n",
    "        #print(\"output \",output)\n",
    "        #print(\"target \",target)\n",
    "        loss = criterion(output, target)  # Calculate loss\n",
    "        #print(\"loss \",loss)\n",
    "        loss.backward()  # Backward pass\n",
    "        optimizer.step()  # Optimize weights\n",
    "        total_loss.append(loss.item())  # Store loss\n",
    "        #print('--------------------------------------------------------------')\n",
    "    loss_list.append(sum(total_loss) / len(total_loss))\n",
    "    print(\"Training {}/{}\\tLoss: {:.20f}\".format((epoch + 1), epochs ,loss_list[-1]))"
   ]
  },
  {
   "cell_type": "code",
   "execution_count": null,
   "id": "e2e5fada",
   "metadata": {},
   "outputs": [],
   "source": [
    "plt.plot(loss_list[:len(loss_list)-1],label='train_loss')\n",
    "plt.title('MSE Loss')\n",
    "plt.legend(bbox_to_anchor=(1.05, 1), loc='upper left', borderaxespad=0.)\n",
    "plt.show()"
   ]
  },
  {
   "cell_type": "code",
   "execution_count": null,
   "id": "796e2235",
   "metadata": {},
   "outputs": [],
   "source": [
    "entrada = conjunto_train.reshape(conjunto_train.shape[0],conjunto_train.shape[1],1)"
   ]
  },
  {
   "cell_type": "code",
   "execution_count": null,
   "id": "253e9b0e",
   "metadata": {},
   "outputs": [],
   "source": [
    "redHibrida.eval()\n",
    "prediction = []\n",
    "batch_size = 1\n",
    "iterations =  int(entrada.shape[0]/batch_size)\n",
    "\n",
    "for i in range(iterations):\n",
    "    preds = redHibrida(torch.tensor(entrada[batch_size*i:batch_size*(i+1)]).double())\n",
    "    prediction.append(preds[0].detach().numpy())\n",
    "prediction = np.array(prediction)"
   ]
  },
  {
   "cell_type": "code",
   "execution_count": null,
   "id": "eacc6519",
   "metadata": {},
   "outputs": [],
   "source": [
    "plt.plot(prediction, marker='^')\n",
    "plt.plot(objetivo_train, marker='o')\n",
    "plt.show()"
   ]
  },
  {
   "cell_type": "code",
   "execution_count": null,
   "id": "3c5b913d",
   "metadata": {},
   "outputs": [],
   "source": [
    "np.sum( (prediction - objetivo_train)**2 )/len(objetivo_train)"
   ]
  },
  {
   "cell_type": "code",
   "execution_count": null,
   "id": "aa47ad54",
   "metadata": {},
   "outputs": [],
   "source": [
    "entrada = conjunto_test.reshape(conjunto_test.shape[0],conjunto_test.shape[1],1)"
   ]
  },
  {
   "cell_type": "code",
   "execution_count": null,
   "id": "7e1481b3",
   "metadata": {},
   "outputs": [],
   "source": [
    "prediction = []\n",
    "batch_size = 1\n",
    "iterations =  int(entrada.shape[0]/batch_size)\n",
    "\n",
    "for i in range(iterations):\n",
    "    preds = redHibrida(torch.tensor(entrada[batch_size*i:batch_size*(i+1)]).double())\n",
    "    prediction.append(preds[0].detach().numpy())\n",
    "prediction = np.array(prediction)"
   ]
  },
  {
   "cell_type": "code",
   "execution_count": null,
   "id": "cc5c6843",
   "metadata": {},
   "outputs": [],
   "source": [
    "plt.plot(prediction, marker='^')\n",
    "plt.plot(objetivo_test, marker='o')\n",
    "plt.show()"
   ]
  },
  {
   "cell_type": "code",
   "execution_count": null,
   "id": "e0e1797b",
   "metadata": {},
   "outputs": [],
   "source": [
    "error = 0\n",
    "\n",
    "for i in range(len(prediction)):\n",
    "    error = error + (prediction[i] - objetivo_test[i])**2\n",
    "error/len(prediction)"
   ]
  },
  {
   "cell_type": "code",
   "execution_count": null,
   "id": "0137a97b",
   "metadata": {},
   "outputs": [],
   "source": []
  }
 ],
 "metadata": {
  "kernelspec": {
   "display_name": "Python 3 (ipykernel)",
   "language": "python",
   "name": "python3"
  },
  "language_info": {
   "codemirror_mode": {
    "name": "ipython",
    "version": 3
   },
   "file_extension": ".py",
   "mimetype": "text/x-python",
   "name": "python",
   "nbconvert_exporter": "python",
   "pygments_lexer": "ipython3",
   "version": "3.9.13"
  }
 },
 "nbformat": 4,
 "nbformat_minor": 5
}
