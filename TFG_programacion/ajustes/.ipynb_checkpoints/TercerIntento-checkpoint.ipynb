{
 "cells": [
  {
   "cell_type": "code",
   "execution_count": 1,
   "id": "f151eaad",
   "metadata": {},
   "outputs": [],
   "source": [
    "import pandas as pd\n",
    "import numpy as np\n",
    "import matplotlib.pyplot as plt\n",
    "from matplotlib.pylab import rcParams\n",
    "from datetime import datetime\n",
    "\n",
    "# Qiskit\n",
    "import qiskit\n",
    "from qiskit import QuantumCircuit, QuantumRegister, ClassicalRegister\n",
    "from qiskit.circuit import library \n",
    "from qiskit import Aer, execute\n",
    "from qiskit.circuit import ParameterVector\n",
    "import math\n",
    "import random\n",
    "\n",
    "from qiskit.quantum_info.operators import Operator, Pauli\n",
    "\n",
    "# Minimizar\n",
    "from scipy.optimize import minimize\n",
    "\n",
    "np.random.seed(1)"
   ]
  },
  {
   "cell_type": "markdown",
   "id": "85c0bc8b",
   "metadata": {},
   "source": [
    "Nos basamos en [1](https://arxiv.org/abs/2207.07982)"
   ]
  },
  {
   "cell_type": "code",
   "execution_count": 2,
   "id": "0735fbfa",
   "metadata": {},
   "outputs": [],
   "source": [
    "df=pd.read_csv('./datos/AirPassengers.csv')\n",
    "df['Month']=pd.to_datetime(df['Month'], infer_datetime_format=True)\n",
    "df=df.set_index(['Month'])\n",
    "df_log=np.log(df)\n",
    "data_shift=df_log-df_log.shift()\n",
    "data_shift = data_shift.dropna()\n",
    "\n",
    "# Crear los conjuntos\n",
    "ptrain=0.8\n",
    "pasajeros = np.array(data_shift['#Passengers'])\n",
    "pasajeros_train = pasajeros[:int(pasajeros.shape[0]*0.8)]\n",
    "pasajeros_test = pasajeros[int(pasajeros.shape[0]*0.8):]\n",
    "\n",
    "tiempo = data_shift.drop(['#Passengers'], axis=1)\n",
    "tiempo_train = tiempo.head(int(pasajeros.shape[0]*0.8))\n",
    "tiempo_test = tiempo.tail(pasajeros.shape[0] - int(pasajeros.shape[0]*0.8))\n",
    "\n",
    "# Pasemos a numpy\n",
    "window = 2;\n",
    "tam_train = pasajeros_train.shape[0] - window\n",
    "tam_test = pasajeros_test.shape[0] - window\n",
    "conjunto_train = []\n",
    "objetivo_train = []\n",
    "conjunto_test = []\n",
    "objetivo_test = []\n",
    "\n",
    "for i in range(0,tam_train):\n",
    "    conjunto_train.append(pasajeros_train[0+i:window+i])\n",
    "    objetivo_train.append(pasajeros_train[window+i])\n",
    "\n",
    "for i in range(0,tam_test):\n",
    "    conjunto_test.append(pasajeros_test[0+i:window+i])\n",
    "    objetivo_test.append(pasajeros_test[window+i])\n",
    "    \n",
    "objetivo_train = np.array(objetivo_train)\n",
    "conjunto_train = np.array(conjunto_train)\n",
    "\n",
    "p_scaling = 0.3\n",
    "\n",
    "index = np.arange(int( len(objetivo_train) * p_scaling) )\n",
    "np.random.shuffle(index)\n",
    "\n",
    "\n",
    "conjunto_scale = conjunto_train[index]\n",
    "objetivo_scale = objetivo_train[index]\n",
    "\n",
    "conjunto_train = np.delete(conjunto_train, index, axis=0)\n",
    "objetivo_train = np.delete(objetivo_train, index, axis=0)\n",
    "\n",
    "\n",
    "index = np.arange(int( len(objetivo_train) * p_scaling) )\n",
    "np.random.shuffle(index)\n",
    "conjunto_train = conjunto_train[index]\n",
    "objetivo_train = objetivo_train[index]\n",
    "\n",
    "objetivo_test = np.array(objetivo_test)\n",
    "conjunto_test = np.array(conjunto_test)\n",
    "\n",
    "# Definir los batches de entrenamiento, voy a cogerlos consecutivos\n",
    "batch_size = 20\n",
    "\n",
    "batchs_conjunto = []\n",
    "batchs_objetivo = []\n",
    "\n",
    "n_batch = conjunto_train.shape[0]//batch_size\n",
    "\n",
    "for i in range(0,n_batch):\n",
    "    batchs_conjunto.append( conjunto_train[batch_size*i:batch_size*(i+1)] )\n",
    "    batchs_objetivo.append( objetivo_train[batch_size*i:batch_size*(i+1)] )\n",
    "\n",
    "\n",
    "batchs_conjunto.append( conjunto_train[batch_size*n_batch:] )\n",
    "batchs_objetivo.append( objetivo_train[batch_size*n_batch:] )\n",
    "n_batch = n_batch+1\n",
    "\n"
   ]
  },
  {
   "cell_type": "markdown",
   "id": "47ea6e0a",
   "metadata": {},
   "source": [
    "No se usan los batches..."
   ]
  },
  {
   "cell_type": "markdown",
   "id": "603ed4d1",
   "metadata": {},
   "source": [
    "Se esta regresando con $y = a_1 x_1 + a_2 x_2$ "
   ]
  },
  {
   "cell_type": "code",
   "execution_count": 3,
   "id": "bb3ad628",
   "metadata": {
    "scrolled": true
   },
   "outputs": [],
   "source": [
    "n_qubits = math.ceil(np.log2(window))\n",
    "\n",
    "X = conjunto_train\n",
    "\n",
    "A = np.identity(2**n_qubits)\n",
    "A[:window , :window] = X.T @ X\n",
    "\n",
    "Y = objetivo_train.T\n",
    "\n",
    "b = X.T @ Y\n",
    "\n",
    "norm_b = np.linalg.norm(b)"
   ]
  },
  {
   "cell_type": "markdown",
   "id": "eb35abd7",
   "metadata": {},
   "source": [
    "Hay que descomponer A como suma de unitarias... Pues se transforma como suma de operadores de Pauli"
   ]
  },
  {
   "cell_type": "code",
   "execution_count": 4,
   "id": "93d020ac",
   "metadata": {},
   "outputs": [
    {
     "name": "stdout",
     "output_type": "stream",
     "text": [
      "[[0.19660562 0.02528274]\n",
      " [0.02528274 0.19929467]]\n"
     ]
    },
    {
     "data": {
      "text/plain": [
       "array([[0.19660562+0.j, 0.02528274+0.j],\n",
       "       [0.02528274+0.j, 0.19929467+0.j]])"
      ]
     },
     "execution_count": 4,
     "metadata": {},
     "output_type": "execute_result"
    }
   ],
   "source": [
    "# Supuesto window = 2\n",
    "objetivo = A.flatten()\n",
    "sistema = np.array([ [1,0,1,0],[0,1,0,-1j],[0,1,0,1j],[1,0,-1,0] ])\n",
    "descomposicion = np.linalg.solve(sistema,objetivo)\n",
    "unitarios = ['I','X','Z','Y']\n",
    "# Comprobamos que se ha resuelto el sistema\n",
    "print(A)\n",
    "descomposicion[0]*np.identity(2) + descomposicion[1]*np.array([ [0,1],[1,0]]) + descomposicion[2]*np.array([ [1,0],[0,-1]]) + descomposicion[3]*np.array([ [0,-1j],[1j,0]])"
   ]
  },
  {
   "cell_type": "code",
   "execution_count": 5,
   "id": "b15147a6",
   "metadata": {},
   "outputs": [],
   "source": [
    "def crearAnsatz(params):\n",
    "    ansatz = QuantumCircuit(n_qubits)\n",
    "\n",
    "    for i in range(0,n_qubits):\n",
    "        ansatz.ry(params[i], i)\n",
    "\n",
    "    for i in range(0,n_qubits-1):\n",
    "        ansatz.cz(i,i+1)\n",
    "\n",
    "    for i in range(0,n_qubits):\n",
    "        ansatz.ry(params[i+n_qubits], i)\n",
    "\n",
    "    for i in range(n_qubits-1,0,-1):\n",
    "        ansatz.cz(i,i-1)\n",
    "\n",
    "    for i in range(0,n_qubits):\n",
    "        ansatz.ry(params[i+2*n_qubits], i)\n",
    "        \n",
    "    return ansatz"
   ]
  },
  {
   "cell_type": "markdown",
   "id": "5ef6c607",
   "metadata": {},
   "source": [
    "La función de coste que queremos calcular es:\n",
    "$$ C_P = 1 - \\dfrac{|<\\phi,b>|^2}{<\\phi,\\phi>}$$\n",
    "\n",
    "Donde b es la codificación del objetivo y $\\phi = \\sum A_i V(\\alpha)|0>$ es la predicción que queremos. "
   ]
  },
  {
   "cell_type": "code",
   "execution_count": 6,
   "id": "b8fc3bf3",
   "metadata": {},
   "outputs": [
    {
     "data": {
      "text/plain": [
       "array([[-0.07360216,  0.99728768],\n",
       "       [ 0.99728768,  1.        ]])"
      ]
     },
     "execution_count": 6,
     "metadata": {},
     "output_type": "execute_result"
    }
   ],
   "source": [
    "arcos = 2*np.arccos((b/norm_b))\n",
    "aux_prueba = np.identity(2)\n",
    "aux_prueba[:,0] = b/norm_b\n",
    "aux_prueba[0,:] = b/norm_b\n",
    "aux_prueba"
   ]
  },
  {
   "cell_type": "code",
   "execution_count": 19,
   "id": "5c0f68c9",
   "metadata": {},
   "outputs": [],
   "source": [
    "def coste(params):\n",
    "    # Preparamos el ansatz, ya que se usa en varios circuitos\n",
    "    ansatz = crearAnsatz(params)\n",
    "    ansatz_inst = ansatz.to_instruction()\n",
    "    \n",
    "    #Test de Hadamard para calcular el valor medio espera do phi\n",
    "    divisor = 0\n",
    "    for i in range(0,len(unitarios)):\n",
    "        adjoint = Pauli(unitarios[i]).adjoint()\n",
    "        for j in range(0,len(unitarios)):\n",
    "            k = np.conjugate(descomposicion[i])*descomposicion[j]\n",
    "            circuito_divisor = QuantumCircuit(n_qubits+1,1)\n",
    "            ## Se aplica el ansatz\n",
    "            circuito_divisor.append(ansatz_inst, np.arange(1,n_qubits+1))\n",
    "            # Se prepara el qubit auxiliar\n",
    "            circuito_divisor.h(0)\n",
    "            \n",
    "            # Se crea el operador Condicional\n",
    "            auxiliar_matrix = (adjoint @ Pauli(unitarios[j])).to_matrix()\n",
    "            aply_matrix = np.identity(auxiliar_matrix.shape[0]*2, dtype=complex) \n",
    "            \n",
    "            aply_matrix[auxiliar_matrix.shape[0]: , auxiliar_matrix.shape[0]: ] = auxiliar_matrix\n",
    "            aply_operator = Operator(aply_matrix)\n",
    "            inp = []\n",
    "            for i in range(0,n_qubits+1):\n",
    "                inp.append(i)\n",
    "            circuito_divisor.append(aply_operator, inp)\n",
    "            \n",
    "            # Otro h\n",
    "            circuito_divisor.h(0)\n",
    "            \n",
    "            #Medicion el qubit auxiliar\n",
    "            circuito_divisor.measure(0,0)\n",
    "\n",
    "            backend = Aer.get_backend('qasm_simulator')\n",
    "            job = execute(circuito_divisor, backend, shots=20000) ## Muchas ejecuciones\n",
    "\n",
    "            result = job.result()\n",
    "            outputstate = result.get_counts(circuito_divisor)\n",
    "\n",
    "            if ('0' in outputstate.keys()):\n",
    "                m_sum0 = float(outputstate[\"0\"])/20000\n",
    "            else:\n",
    "                m_sum0 = 0\n",
    "            if ('1' in outputstate.keys()):\n",
    "                m_sum1 = float(outputstate[\"1\"])/20000\n",
    "            else:\n",
    "                m_sum1 = 0\n",
    "                \n",
    "            divisor = divisor + k*(m_sum0-m_sum1)\n",
    "    \n",
    "    # Va a seguir una filosofia paracida a lo de arriba, salvo que ahora entra a participar b\n",
    "    # Se va a asumir que el valor medio esperado de este vector es real\n",
    "    numerador = 0\n",
    "    for i in range(0,len(unitarios)):\n",
    "        adjoint = Pauli(unitarios[i])\n",
    "        for j in range(0,len(unitarios)):\n",
    "            k = np.conjugate(descomposicion[j])*descomposicion[i]\n",
    "            circuito_divisor = QuantumCircuit(n_qubits+1,1)\n",
    "            ## Se aplica el ansatz\n",
    "            circuito_divisor.append(ansatz_inst, np.arange(1,n_qubits+1))\n",
    "            # Se prepara el qubit auxiliar\n",
    "            circuito_divisor.h(0)\n",
    "            \n",
    "            # Se crea el operador Condicional\n",
    "            auxiliar_matrix = (adjoint @ Pauli(unitarios[j]).adjoint()).to_matrix()\n",
    "            aply_matrix = np.identity(auxiliar_matrix.shape[0]*2, dtype=complex) \n",
    "            \n",
    "            aply_matrix[auxiliar_matrix.shape[0]: , auxiliar_matrix.shape[0]: ] = auxiliar_matrix\n",
    "            aply_operator = Operator(aply_matrix)\n",
    "            inp = []\n",
    "            for i in range(0,n_qubits+1):\n",
    "                inp.append(i)\n",
    "            circuito_divisor.append(aply_operator, inp)\n",
    "            \n",
    "            # Otro h\n",
    "            circuito_divisor.h(0)\n",
    "            \n",
    "            # Para simular la ejecucion de la puerta U para el test, se inicializa el vector inicial a b\n",
    "            circuito_divisor.initialize(b/norm_b, np.arange(1,n_qubits+1))\n",
    "            \n",
    "            #Medicion el qubit auxiliar\n",
    "            circuito_divisor.measure(0,0)\n",
    "\n",
    "            backend = Aer.get_backend('qasm_simulator')\n",
    "            job = execute(circuito_divisor, backend, shots=20000) ## Muchas ejecuciones\n",
    "\n",
    "            result = job.result()\n",
    "            outputstate = result.get_counts(circuito_divisor)\n",
    "\n",
    "            if ('0' in outputstate.keys()):\n",
    "                m_sum0 = float(outputstate[\"0\"])/20000\n",
    "            else:\n",
    "                m_sum0 = 0\n",
    "            if ('1' in outputstate.keys()):\n",
    "                m_sum1 = float(outputstate[\"1\"])/20000\n",
    "            else:\n",
    "                m_sum1 = 0\n",
    "                \n",
    "            numerador = numerador + k*(m_sum0-m_sum1)\n",
    "    return (1 - (numerador**2)/divisor)\n"
   ]
  },
  {
   "cell_type": "code",
   "execution_count": 20,
   "id": "14038cc2",
   "metadata": {},
   "outputs": [],
   "source": [
    "params = np.array([np.pi,0,1])"
   ]
  },
  {
   "cell_type": "code",
   "execution_count": 21,
   "id": "712efe48",
   "metadata": {
    "scrolled": true
   },
   "outputs": [
    {
     "data": {
      "text/plain": [
       "     fun: 0.9536567667030097\n",
       "   maxcv: 0.0\n",
       " message: 'Optimization terminated successfully.'\n",
       "    nfev: 52\n",
       "  status: 1\n",
       " success: True\n",
       "       x: array([4.19045006, 1.04827175, 1.0090134 ])"
      ]
     },
     "execution_count": 21,
     "metadata": {},
     "output_type": "execute_result"
    }
   ],
   "source": [
    "out1 = minimize(coste, x0=params, method=\"COBYLA\", options={'maxiter':200}, tol=1e-6)\n",
    "out1"
   ]
  },
  {
   "cell_type": "code",
   "execution_count": 22,
   "id": "a7d2636f",
   "metadata": {},
   "outputs": [
    {
     "data": {
      "text/plain": [
       "array([4.19045006, 1.04827175, 1.0090134 ])"
      ]
     },
     "execution_count": 22,
     "metadata": {},
     "output_type": "execute_result"
    }
   ],
   "source": [
    "opt_params = out1['x']\n",
    "opt_params"
   ]
  },
  {
   "cell_type": "markdown",
   "id": "3f44b8e4",
   "metadata": {},
   "source": [
    "Hallar el factor de escala, queremos hallar un lambda minimizando:\n",
    "\n",
    "$$ \\sum (y_j - \\lambda |y| <x,y>)^2 $$"
   ]
  },
  {
   "cell_type": "code",
   "execution_count": 23,
   "id": "aa9287bc",
   "metadata": {},
   "outputs": [],
   "source": [
    "X = conjunto_scale\n",
    "\n",
    "Y = objetivo_scale"
   ]
  },
  {
   "cell_type": "code",
   "execution_count": 24,
   "id": "b1eb8f1b",
   "metadata": {},
   "outputs": [],
   "source": [
    "def swapTest(scale,params):\n",
    "    # Se va a suponer que no pueden ser inversamente proporcianales los dos kets\n",
    "    ansatz = crearAnsatz(params)\n",
    "    ansatz_inst = ansatz.to_instruction()\n",
    "    \n",
    "    suma = 0\n",
    "    for j in range(0,len(Y)):\n",
    "    \n",
    "        circuito_divisor = QuantumCircuit(2*n_qubits+1,1)\n",
    "        ## Se aplica el ansatz\n",
    "        circuito_divisor.append(ansatz_inst, np.arange(1,n_qubits+1))\n",
    "        # Se prepara el qubit auxiliar\n",
    "        circuito_divisor.h(0)\n",
    "\n",
    "        # Para simular la ejecucion de la puerta U para el test, se inicializa el vector inicial a b\n",
    "        circuito_divisor.initialize(X[j]/np.linalg.norm(X[j]), np.arange(n_qubits+1,2*n_qubits+1))\n",
    "\n",
    "        #Swap\n",
    "        circuito_divisor.cswap(0,np.arange(1,n_qubits+1),np.arange(n_qubits+1,2*n_qubits+1))\n",
    "\n",
    "        # Otro h\n",
    "        circuito_divisor.h(0)\n",
    "\n",
    "        #Medicion el qubit auxiliar\n",
    "        circuito_divisor.measure(0,0)\n",
    "\n",
    "        backend = Aer.get_backend('qasm_simulator')\n",
    "        job = execute(circuito_divisor, backend, shots=20000) ## Muchas ejecuciones\n",
    "\n",
    "        result = job.result()\n",
    "        outputstate = result.get_counts(circuito_divisor)\n",
    "\n",
    "        if ('0' in outputstate.keys()):\n",
    "            m_sum0 = float(outputstate[\"0\"])/20000\n",
    "        else:\n",
    "            m_sum0 = 0\n",
    "        \n",
    "        productoEscalar = (m_sum0 - (1/2))*2\n",
    "        if (productoEscalar < 0):\n",
    "            productoEscalar = 0\n",
    "        else:\n",
    "            productoEscalar = math.sqrt(productoEscalar)\n",
    "        \n",
    "        suma = suma + (Y[j] - scale*np.linalg.norm(X[j])*productoEscalar)**2\n",
    "        \n",
    "    return suma\n",
    "    "
   ]
  },
  {
   "cell_type": "code",
   "execution_count": 25,
   "id": "6b966323",
   "metadata": {
    "scrolled": true
   },
   "outputs": [
    {
     "data": {
      "text/plain": [
       "     fun: 0.35816370172114154\n",
       "   maxcv: 0.0\n",
       " message: 'Optimization terminated successfully.'\n",
       "    nfev: 28\n",
       "  status: 1\n",
       " success: True\n",
       "       x: array([0.15618996])"
      ]
     },
     "execution_count": 25,
     "metadata": {},
     "output_type": "execute_result"
    }
   ],
   "source": [
    "escala = 1\n",
    "out2 = minimize(swapTest, x0=escala, args=(opt_params), method=\"COBYLA\", options={'maxiter':200}, tol=1e-6)\n",
    "out2"
   ]
  },
  {
   "cell_type": "code",
   "execution_count": 26,
   "id": "36dd86d3",
   "metadata": {},
   "outputs": [],
   "source": [
    "escala_opt = out2['x']"
   ]
  },
  {
   "cell_type": "code",
   "execution_count": 27,
   "id": "ff1ea457",
   "metadata": {},
   "outputs": [],
   "source": [
    "def estimacion(scale, params, anteriores):\n",
    "    norma_anterior = np.linalg.norm(anteriores)\n",
    "    ansatz = crearAnsatz(params)\n",
    "    ansatz_inst = ansatz.to_instruction()\n",
    "    circuito_divisor = QuantumCircuit(2*n_qubits+1,1)\n",
    "    ## Se aplica el ansatz\n",
    "    circuito_divisor.append(ansatz_inst, np.arange(1,n_qubits+1))\n",
    "    # Se prepara el qubit auxiliar\n",
    "    circuito_divisor.h(0)\n",
    "\n",
    "    # Para simular la ejecucion de la puerta U para el test, se inicializa el vector inicial a b\n",
    "    circuito_divisor.initialize(anteriores/norma_anterior, np.arange(n_qubits+1,2*n_qubits+1))\n",
    "\n",
    "    #Swap\n",
    "    circuito_divisor.cswap(0,np.arange(1,n_qubits+1),np.arange(n_qubits+1,2*n_qubits+1))\n",
    "\n",
    "    # Otro h\n",
    "    circuito_divisor.h(0)\n",
    "\n",
    "    #Medicion el qubit auxiliar\n",
    "    circuito_divisor.measure(0,0)\n",
    "\n",
    "    backend = Aer.get_backend('qasm_simulator')\n",
    "    job = execute(circuito_divisor, backend, shots=20000) ## Muchas ejecuciones\n",
    "\n",
    "    result = job.result()\n",
    "    outputstate = result.get_counts(circuito_divisor)\n",
    "\n",
    "    if ('0' in outputstate.keys()):\n",
    "        m_sum0 = float(outputstate[\"0\"])/20000\n",
    "    else:\n",
    "        m_sum0 = 0\n",
    "\n",
    "    productoEscalar = (m_sum0 - (1/2))*2\n",
    "    \n",
    "    return productoEscalar*norma_anterior*scale"
   ]
  },
  {
   "cell_type": "code",
   "execution_count": 28,
   "id": "ce599d20",
   "metadata": {},
   "outputs": [],
   "source": [
    "y_ = []\n",
    "for i in range(0,len(conjunto_train)):\n",
    "    y_.append(estimacion(escala_opt, opt_params, conjunto_train[i]))"
   ]
  },
  {
   "cell_type": "code",
   "execution_count": 31,
   "id": "d72f5541",
   "metadata": {},
   "outputs": [
    {
     "data": {
      "image/png": "[encoded data removed]",
      "text/plain": [
       "<Figure size 2000x1000 with 1 Axes>"
      ]
     },
     "metadata": {},
     "output_type": "display_data"
    }
   ],
   "source": [
    "espacio = np.arange(0,objetivo_train.shape[0])\n",
    "plt.figure(figsize=(20,10))\n",
    "plt.plot(espacio ,objetivo_train, color='red', label='Verdaderos')\n",
    "plt.plot(espacio,y_ , color='blue', label='Predicciones') \n",
    "plt.show()"
   ]
  },
  {
   "cell_type": "code",
   "execution_count": null,
   "id": "027effb2",
   "metadata": {},
   "outputs": [],
   "source": []
  }
 ],
 "metadata": {
  "kernelspec": {
   "display_name": "Python 3 (ipykernel)",
   "language": "python",
   "name": "python3"
  },
  "language_info": {
   "codemirror_mode": {
    "name": "ipython",
    "version": 3
   },
   "file_extension": ".py",
   "mimetype": "text/x-python",
   "name": "python",
   "nbconvert_exporter": "python",
   "pygments_lexer": "ipython3",
   "version": "3.9.13"
  }
 },
 "nbformat": 4,
 "nbformat_minor": 5
}
