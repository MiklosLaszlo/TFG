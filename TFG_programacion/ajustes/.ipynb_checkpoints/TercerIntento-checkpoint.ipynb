{
 "cells": [
  {
   "cell_type": "code",
   "execution_count": 14,
   "id": "f151eaad",
   "metadata": {},
   "outputs": [],
   "source": [
    "import pandas as pd\n",
    "import numpy as np\n",
    "import matplotlib.pyplot as plt\n",
    "from matplotlib.pylab import rcParams\n",
    "from datetime import datetime\n",
    "\n",
    "# Qiskit\n",
    "import qiskit\n",
    "from qiskit import QuantumCircuit, QuantumRegister, ClassicalRegister\n",
    "from qiskit import Aer, execute\n",
    "import math\n",
    "import random\n",
    "\n",
    "# Minimizar\n",
    "from scipy.optimize import minimize\n",
    "\n",
    "np.random.seed(1)"
   ]
  },
  {
   "cell_type": "markdown",
   "id": "85c0bc8b",
   "metadata": {},
   "source": [
    "Nos basamos en [1](https://arxiv.org/abs/2207.07982)"
   ]
  },
  {
   "cell_type": "code",
   "execution_count": 33,
   "id": "0735fbfa",
   "metadata": {},
   "outputs": [
    {
     "name": "stdout",
     "output_type": "stream",
     "text": [
      "[[-0.10477895  0.12036368  0.0102565   0.          0.18571715 -0.00424629\n",
      "  -0.02586351  0.05933944  0.08288766  0.02985296 -0.13774193 -0.11620201]\n",
      " [-0.07836907 -0.12733942 -0.10398971  0.12838117  0.02967577  0.05129329\n",
      "   0.06973334 -0.06419316  0.01098912  0.17500891  0.05358425  0.05085842]\n",
      " [-0.10398971  0.12838117  0.02967577  0.05129329  0.06973334 -0.06419316\n",
      "   0.01098912  0.17500891  0.05358425  0.05085842 -0.14660347 -0.09006082]\n",
      " [ 0.18571715 -0.00424629 -0.02586351  0.05933944  0.08288766  0.02985296\n",
      "  -0.13774193 -0.11620201 -0.15890128  0.11034806  0.01481509 -0.08167803]\n",
      " [ 0.12838117  0.02967577  0.05129329  0.06973334 -0.06419316  0.01098912\n",
      "   0.17500891  0.05358425  0.05085842 -0.14660347 -0.09006082 -0.10477895]\n",
      " [-0.12733942 -0.10398971  0.12838117  0.02967577  0.05129329  0.06973334\n",
      "  -0.06419316  0.01098912  0.17500891  0.05358425  0.05085842 -0.14660347]\n",
      " [-0.14660347 -0.09006082 -0.10477895  0.12036368  0.0102565   0.\n",
      "   0.18571715 -0.00424629 -0.02586351  0.05933944  0.08288766  0.02985296]\n",
      " [ 0.0102565   0.          0.18571715 -0.00424629 -0.02586351  0.05933944\n",
      "   0.08288766  0.02985296 -0.13774193 -0.11620201 -0.15890128  0.11034806]\n",
      " [ 0.01098912  0.17500891  0.05358425  0.05085842 -0.14660347 -0.09006082\n",
      "  -0.10477895  0.12036368  0.0102565   0.          0.18571715 -0.00424629]\n",
      " [-0.06419316  0.01098912  0.17500891  0.05358425  0.05085842 -0.14660347\n",
      "  -0.09006082 -0.10477895  0.12036368  0.0102565   0.          0.18571715]\n",
      " [ 0.17500891  0.05358425  0.05085842 -0.14660347 -0.09006082 -0.10477895\n",
      "   0.12036368  0.0102565   0.          0.18571715 -0.00424629 -0.02586351]\n",
      " [ 0.05085842 -0.14660347 -0.09006082 -0.10477895  0.12036368  0.0102565\n",
      "   0.          0.18571715 -0.00424629 -0.02586351  0.05933944  0.08288766]\n",
      " [ 0.05358425  0.05085842 -0.14660347 -0.09006082 -0.10477895  0.12036368\n",
      "   0.0102565   0.          0.18571715 -0.00424629 -0.02586351  0.05933944]\n",
      " [ 0.12036368  0.0102565   0.          0.18571715 -0.00424629 -0.02586351\n",
      "   0.05933944  0.08288766  0.02985296 -0.13774193 -0.11620201 -0.15890128]\n",
      " [ 0.         -0.07836907 -0.12733942 -0.10398971  0.12838117  0.02967577\n",
      "   0.05129329  0.06973334 -0.06419316  0.01098912  0.17500891  0.05358425]\n",
      " [-0.00424629 -0.02586351  0.05933944  0.08288766  0.02985296 -0.13774193\n",
      "  -0.11620201 -0.15890128  0.11034806  0.01481509 -0.08167803  0.22314355]\n",
      " [ 0.06973334 -0.06419316  0.01098912  0.17500891  0.05358425  0.05085842\n",
      "  -0.14660347 -0.09006082 -0.10477895  0.12036368  0.0102565   0.        ]\n",
      " [-0.09006082 -0.10477895  0.12036368  0.0102565   0.          0.18571715\n",
      "  -0.00424629 -0.02586351  0.05933944  0.08288766  0.02985296 -0.13774193]\n",
      " [ 0.          0.18571715 -0.00424629 -0.02586351  0.05933944  0.08288766\n",
      "   0.02985296 -0.13774193 -0.11620201 -0.15890128  0.11034806  0.01481509]\n",
      " [ 0.05129329  0.06973334 -0.06419316  0.01098912  0.17500891  0.05358425\n",
      "   0.05085842 -0.14660347 -0.09006082 -0.10477895  0.12036368  0.0102565 ]\n",
      " [ 0.02967577  0.05129329  0.06973334 -0.06419316  0.01098912  0.17500891\n",
      "   0.05358425  0.05085842 -0.14660347 -0.09006082 -0.10477895  0.12036368]]\n"
     ]
    }
   ],
   "source": [
    "df=pd.read_csv('./datos/AirPassengers.csv')\n",
    "df['Month']=pd.to_datetime(df['Month'], infer_datetime_format=True)\n",
    "df=df.set_index(['Month'])\n",
    "df_log=np.log(df)\n",
    "data_shift=df_log-df_log.shift()\n",
    "data_shift = data_shift.dropna()\n",
    "\n",
    "# Crear los conjuntos\n",
    "ptrain=0.8\n",
    "pasajeros = np.array(data_shift['#Passengers'])\n",
    "pasajeros_train = pasajeros[:int(pasajeros.shape[0]*0.8)]\n",
    "pasajeros_test = pasajeros[int(pasajeros.shape[0]*0.8):]\n",
    "\n",
    "tiempo = data_shift.drop(['#Passengers'], axis=1)\n",
    "tiempo_train = tiempo.head(int(pasajeros.shape[0]*0.8))\n",
    "tiempo_test = tiempo.tail(pasajeros.shape[0] - int(pasajeros.shape[0]*0.8))\n",
    "\n",
    "# Pasemos a numpy\n",
    "window = 12;\n",
    "tam_train = pasajeros_train.shape[0] - window\n",
    "tam_test = pasajeros_test.shape[0] - window\n",
    "conjunto_train = []\n",
    "objetivo_train = []\n",
    "conjunto_test = []\n",
    "objetivo_test = []\n",
    "\n",
    "for i in range(0,tam_train):\n",
    "    conjunto_train.append(pasajeros_train[0+i:window+i])\n",
    "    objetivo_train.append(pasajeros_train[window+i])\n",
    "\n",
    "for i in range(0,tam_test):\n",
    "    conjunto_test.append(pasajeros_test[0+i:window+i])\n",
    "    objetivo_test.append(pasajeros_test[window+i])\n",
    "    \n",
    "objetivo_train = np.array(objetivo_train)\n",
    "conjunto_train = np.array(conjunto_train)\n",
    "\n",
    "p_scaling = 0.3\n",
    "\n",
    "index = np.arange(int( len(objetivo_train) * p_scaling) )\n",
    "np.random.shuffle(index)\n",
    "\n",
    "\n",
    "conjunto_scale = conjunto_train[index]\n",
    "objetivo_scale = objetivo_train[index]\n",
    "\n",
    "conjunto_train = np.delete(conjunto_train, index, axis=0)\n",
    "objetivo_train = np.delete(objetivo_train, index, axis=0)\n",
    "\n",
    "\n",
    "index = np.arange(int( len(objetivo_train) * p_scaling) )\n",
    "np.random.shuffle(index)\n",
    "conjunto_train = conjunto_train[index]\n",
    "objetivo_train = objetivo_train[index]\n",
    "\n",
    "objetivo_test = np.array(objetivo_test)\n",
    "conjunto_test = np.array(conjunto_test)\n",
    "\n",
    "# Definir los batches de entrenamiento, voy a cogerlos consecutivos\n",
    "batch_size = 20\n",
    "\n",
    "batchs_conjunto = []\n",
    "batchs_objetivo = []\n",
    "\n",
    "n_batch = conjunto_train.shape[0]//batch_size\n",
    "\n",
    "for i in range(0,n_batch):\n",
    "    batchs_conjunto.append( conjunto_train[batch_size*i:batch_size*(i+1)] )\n",
    "    batchs_objetivo.append( objetivo_train[batch_size*i:batch_size*(i+1)] )\n",
    "\n",
    "\n",
    "batchs_conjunto.append( conjunto_train[batch_size*n_batch:] )\n",
    "batchs_objetivo.append( objetivo_train[batch_size*n_batch:] )\n",
    "n_batch = n_batch+1\n",
    "\n"
   ]
  },
  {
   "cell_type": "markdown",
   "id": "47ea6e0a",
   "metadata": {},
   "source": [
    "No se usan los batches..."
   ]
  },
  {
   "cell_type": "code",
   "execution_count": 35,
   "id": "bb3ad628",
   "metadata": {},
   "outputs": [],
   "source": [
    "X = conjunto_train\n",
    "\n"
   ]
  },
  {
   "cell_type": "code",
   "execution_count": null,
   "id": "93d020ac",
   "metadata": {},
   "outputs": [],
   "source": []
  },
  {
   "cell_type": "code",
   "execution_count": null,
   "id": "5c0f68c9",
   "metadata": {},
   "outputs": [],
   "source": []
  },
  {
   "cell_type": "code",
   "execution_count": null,
   "id": "e5aea893",
   "metadata": {},
   "outputs": [],
   "source": []
  },
  {
   "cell_type": "code",
   "execution_count": null,
   "id": "712efe48",
   "metadata": {},
   "outputs": [],
   "source": []
  },
  {
   "cell_type": "code",
   "execution_count": null,
   "id": "b1eb8f1b",
   "metadata": {},
   "outputs": [],
   "source": [
    "out1 = minimize(calculate_cost_function_n, x0=x0, method=\"COBYLA\", options={'maxiter':200}, tol=1e-6)"
   ]
  }
 ],
 "metadata": {
  "kernelspec": {
   "display_name": "Python 3 (ipykernel)",
   "language": "python",
   "name": "python3"
  },
  "language_info": {
   "codemirror_mode": {
    "name": "ipython",
    "version": 3
   },
   "file_extension": ".py",
   "mimetype": "text/x-python",
   "name": "python",
   "nbconvert_exporter": "python",
   "pygments_lexer": "ipython3",
   "version": "3.9.13"
  }
 },
 "nbformat": 4,
 "nbformat_minor": 5
}
