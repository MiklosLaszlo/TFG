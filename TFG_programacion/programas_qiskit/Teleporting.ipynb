{
 "cells": [
  {
   "cell_type": "code",
   "execution_count": 4,
   "id": "7b369152",
   "metadata": {},
   "outputs": [],
   "source": [
    "from qiskit import QuantumCircuit, ClassicalRegister, QuantumRegister, Aer, transpile\n",
    "\n",
    "import math"
   ]
  },
  {
   "cell_type": "code",
   "execution_count": 5,
   "id": "d5f958c7",
   "metadata": {},
   "outputs": [
    {
     "data": {
      "text/plain": [
       "<qiskit.circuit.instructionset.InstructionSet at 0x7fec9f9f0eb0>"
      ]
     },
     "execution_count": 5,
     "metadata": {},
     "output_type": "execute_result"
    }
   ],
   "source": [
    "q = QuantumRegister(3)\n",
    "cb = ClassicalRegister(2)\n",
    "\n",
    "circ = QuantumCircuit(q,cb)\n",
    "\n",
    "simulator = Aer.get_backend('aer_simulator')\n",
    "circ = transpile(circ, simulator)\n",
    "\n",
    "circ.initialize([ 1/math.sqrt(2), 1/math.sqrt(2)],[q[0]])\n",
    "\n",
    "circ.h(1)\n",
    "circ.cx(1,2)\n",
    "\n",
    "\n",
    "circ.barrier()"
   ]
  },
  {
   "cell_type": "code",
   "execution_count": 6,
   "id": "b46c5e7f",
   "metadata": {},
   "outputs": [
    {
     "data": {
      "text/html": [
       "<pre style=\"word-wrap: normal;white-space: pre;background: #fff0;line-height: 1.1;font-family: &quot;Courier New&quot;,Courier,monospace\">      ┌─────────────────────────────┐      ░      ┌───┐ ░ ┌─┐    ░           »\n",
       "q1_0: ┤ Initialize(0.70711,0.70711) ├──────░───■──┤ H ├─░─┤M├────░───────────»\n",
       "      └────────────┬───┬────────────┘      ░ ┌─┴─┐└───┘ ░ └╥┘┌─┐ ░           »\n",
       "q1_1: ─────────────┤ H ├───────────────■───░─┤ X ├──────░──╫─┤M├─░───────────»\n",
       "                   └───┘             ┌─┴─┐ ░ └───┘      ░  ║ └╥┘ ░ ┌───┐┌───┐»\n",
       "q1_2: ───────────────────────────────┤ X ├─░────────────░──╫──╫──░─┤ X ├┤ Z ├»\n",
       "                                     └───┘ ░            ░  ║  ║  ░ └─╥─┘└─╥─┘»\n",
       "c1_0: ═════════════════════════════════════════════════════╩══╬══════╬════■══»\n",
       "                                                              ║      ║       »\n",
       "c1_1: ════════════════════════════════════════════════════════╩══════■═══════»\n",
       "                                                                             »\n",
       "«       statevector \n",
       "«q1_0: ──────░──────\n",
       "«            ░      \n",
       "«q1_1: ──────░──────\n",
       "«            ░      \n",
       "«q1_2: ──────░──────\n",
       "«            ░      \n",
       "«c1_0: ═════════════\n",
       "«                   \n",
       "«c1_1: ═════════════\n",
       "«                   </pre>"
      ],
      "text/plain": [
       "      ┌─────────────────────────────┐      ░      ┌───┐ ░ ┌─┐    ░           »\n",
       "q1_0: ┤ Initialize(0.70711,0.70711) ├──────░───■──┤ H ├─░─┤M├────░───────────»\n",
       "      └────────────┬───┬────────────┘      ░ ┌─┴─┐└───┘ ░ └╥┘┌─┐ ░           »\n",
       "q1_1: ─────────────┤ H ├───────────────■───░─┤ X ├──────░──╫─┤M├─░───────────»\n",
       "                   └───┘             ┌─┴─┐ ░ └───┘      ░  ║ └╥┘ ░ ┌───┐┌───┐»\n",
       "q1_2: ───────────────────────────────┤ X ├─░────────────░──╫──╫──░─┤ X ├┤ Z ├»\n",
       "                                     └───┘ ░            ░  ║  ║  ░ └─╥─┘└─╥─┘»\n",
       "c1_0: ═════════════════════════════════════════════════════╩══╬══════╬════■══»\n",
       "                                                              ║      ║       »\n",
       "c1_1: ════════════════════════════════════════════════════════╩══════■═══════»\n",
       "                                                                             »\n",
       "«       statevector \n",
       "«q1_0: ──────░──────\n",
       "«            ░      \n",
       "«q1_1: ──────░──────\n",
       "«            ░      \n",
       "«q1_2: ──────░──────\n",
       "«            ░      \n",
       "«c1_0: ═════════════\n",
       "«                   \n",
       "«c1_1: ═════════════\n",
       "«                   "
      ]
     },
     "execution_count": 6,
     "metadata": {},
     "output_type": "execute_result"
    }
   ],
   "source": [
    "\n",
    "circ.cx(0,1)\n",
    "circ.h(0)\n",
    "\n",
    "circ.barrier()\n",
    "circ.measure(0,0)\n",
    "circ.measure(1,1)\n",
    "\n",
    "circ.barrier()\n",
    "circ.x(2).c_if(1,1)\n",
    "circ.z(2).c_if(0,1)\n",
    "\n",
    "circ.save_statevector()\n",
    "\n",
    "circ.draw()"
   ]
  },
  {
   "cell_type": "code",
   "execution_count": 7,
   "id": "954a995c",
   "metadata": {},
   "outputs": [
    {
     "name": "stdout",
     "output_type": "stream",
     "text": [
      "Statevector([ 0.        +0.00000000e+00j,  0.70710678+0.00000000e+00j,\n",
      "              0.        +0.00000000e+00j, -0.        +0.00000000e+00j,\n",
      "             -0.        +0.00000000e+00j,  0.70710678-8.65956056e-17j,\n",
      "             -0.        +0.00000000e+00j, -0.        +0.00000000e+00j],\n",
      "            dims=(2, 2, 2))\n"
     ]
    }
   ],
   "source": [
    "\n",
    "\n",
    "# Run and get statevector\n",
    "result = simulator.run(circ).result()\n",
    "statevector = result.get_statevector(circ)\n",
    "\n",
    "print(statevector)"
   ]
  },
  {
   "cell_type": "code",
   "execution_count": null,
   "id": "cdea978a",
   "metadata": {},
   "outputs": [],
   "source": []
  },
  {
   "cell_type": "code",
   "execution_count": null,
   "id": "ef9490b2",
   "metadata": {},
   "outputs": [],
   "source": []
  }
 ],
 "metadata": {
  "kernelspec": {
   "display_name": "Python 3 (ipykernel)",
   "language": "python",
   "name": "python3"
  },
  "language_info": {
   "codemirror_mode": {
    "name": "ipython",
    "version": 3
   },
   "file_extension": ".py",
   "mimetype": "text/x-python",
   "name": "python",
   "nbconvert_exporter": "python",
   "pygments_lexer": "ipython3",
   "version": "3.9.13"
  }
 },
 "nbformat": 4,
 "nbformat_minor": 5
}
