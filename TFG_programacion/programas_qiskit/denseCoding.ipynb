{
 "cells": [
  {
   "cell_type": "code",
   "execution_count": 1,
   "id": "f4e98ea6",
   "metadata": {
    "scrolled": true
   },
   "outputs": [
    {
     "name": "stdout",
     "output_type": "stream",
     "text": [
      "[1 1]\n"
     ]
    }
   ],
   "source": [
    "import numpy as np\n",
    "from qiskit import QuantumCircuit\n",
    "\n",
    "np.random.seed(1)\n",
    "\n",
    "parBit = np.random.randint(2, size=2) \n",
    "\n",
    "print(parBit)\n"
   ]
  },
  {
   "cell_type": "code",
   "execution_count": 2,
   "id": "b625f6e8",
   "metadata": {
    "scrolled": true
   },
   "outputs": [
    {
     "data": {
      "image/png": "[encoded data removed]",
      "text/plain": [
       "<Figure size 287.294x284.278 with 1 Axes>"
      ]
     },
     "execution_count": 2,
     "metadata": {},
     "output_type": "execute_result"
    }
   ],
   "source": [
    "circ = QuantumCircuit(2,2)\n",
    "\n",
    "circ.h(0)\n",
    "circ.cx(0,1)\n",
    "\n",
    "circ.draw('mpl')"
   ]
  },
  {
   "cell_type": "code",
   "execution_count": 3,
   "id": "fc593ad2",
   "metadata": {
    "scrolled": true
   },
   "outputs": [
    {
     "data": {
      "image/png": "[encoded data removed]",
      "text/plain": [
       "<Figure size 370.906x284.278 with 1 Axes>"
      ]
     },
     "execution_count": 3,
     "metadata": {},
     "output_type": "execute_result"
    }
   ],
   "source": [
    "if(parBit[0] == 0 and parBit[1] == 0):\n",
    "    circ.id(0)\n",
    "elif(parBit[0] == 0 and parBit[1] == 1):\n",
    "    circ.x(0)\n",
    "elif(parBit[0] == 1 and parBit[1] == 0):\n",
    "    circ.y(0)\n",
    "elif(parBit[0] == 1 and parBit[1] == 1):\n",
    "    circ.z(0)\n",
    "\n",
    "circ.draw('mpl')"
   ]
  },
  {
   "cell_type": "code",
   "execution_count": 4,
   "id": "550a85aa",
   "metadata": {
    "scrolled": true
   },
   "outputs": [
    {
     "data": {
      "text/html": [
       "<pre style=\"word-wrap: normal;white-space: pre;background: #fff0;line-height: 1.1;font-family: &quot;Courier New&quot;,Courier,monospace\">     ┌───┐     ┌───┐     ┌───┐┌─┐\n",
       "q_0: ┤ H ├──■──┤ Z ├──■──┤ H ├┤M├\n",
       "     └───┘┌─┴─┐└───┘┌─┴─┐└┬─┬┘└╥┘\n",
       "q_1: ─────┤ X ├─────┤ X ├─┤M├──╫─\n",
       "          └───┘     └───┘ └╥┘  ║ \n",
       "c_0: ══════════════════════╬═══╩═\n",
       "                           ║     \n",
       "c_1: ══════════════════════╩═════\n",
       "                                 </pre>"
      ],
      "text/plain": [
       "     ┌───┐     ┌───┐     ┌───┐┌─┐\n",
       "q_0: ┤ H ├──■──┤ Z ├──■──┤ H ├┤M├\n",
       "     └───┘┌─┴─┐└───┘┌─┴─┐└┬─┬┘└╥┘\n",
       "q_1: ─────┤ X ├─────┤ X ├─┤M├──╫─\n",
       "          └───┘     └───┘ └╥┘  ║ \n",
       "c_0: ══════════════════════╬═══╩═\n",
       "                           ║     \n",
       "c_1: ══════════════════════╩═════\n",
       "                                 "
      ]
     },
     "execution_count": 4,
     "metadata": {},
     "output_type": "execute_result"
    }
   ],
   "source": [
    "circ.cx(0,1)\n",
    "circ.h(0)\n",
    "circ.measure(1,1)\n",
    "circ.measure(0,0)\n",
    "\n",
    "circ.draw()"
   ]
  },
  {
   "cell_type": "code",
   "execution_count": 5,
   "id": "79748536",
   "metadata": {},
   "outputs": [],
   "source": [
    "# Import Aer\n",
    "from qiskit import Aer\n",
    "from qiskit import transpile\n",
    "\n",
    "# Use Aer's qasm_simulator\n",
    "backend_sim = Aer.get_backend('qasm_simulator')\n",
    "\n",
    "# Execute the circuit on the qasm simulator.\n",
    "# We've set the number of repeats of the circuit\n",
    "# to be 1024, which is the default.\n",
    "job_sim = backend_sim.run(transpile(circ, backend_sim), shots=1024)\n",
    "\n",
    "# Grab the results from the job.\n",
    "result_sim = job_sim.result()\n",
    "\n"
   ]
  },
  {
   "cell_type": "code",
   "execution_count": 6,
   "id": "6fe99ead",
   "metadata": {},
   "outputs": [
    {
     "name": "stdout",
     "output_type": "stream",
     "text": [
      "{'01': 1024}\n"
     ]
    }
   ],
   "source": [
    "counts = result_sim.get_counts(circ)\n",
    "print(counts)"
   ]
  },
  {
   "cell_type": "code",
   "execution_count": null,
   "id": "d33265cb",
   "metadata": {},
   "outputs": [],
   "source": []
  },
  {
   "cell_type": "code",
   "execution_count": null,
   "id": "f8d726b6",
   "metadata": {},
   "outputs": [],
   "source": []
  },
  {
   "cell_type": "code",
   "execution_count": null,
   "id": "43e0e0c7",
   "metadata": {},
   "outputs": [],
   "source": []
  }
 ],
 "metadata": {
  "kernelspec": {
   "display_name": "Python 3 (ipykernel)",
   "language": "python",
   "name": "python3"
  },
  "language_info": {
   "codemirror_mode": {
    "name": "ipython",
    "version": 3
   },
   "file_extension": ".py",
   "mimetype": "text/x-python",
   "name": "python",
   "nbconvert_exporter": "python",
   "pygments_lexer": "ipython3",
   "version": "3.9.13"
  }
 },
 "nbformat": 4,
 "nbformat_minor": 5
}
