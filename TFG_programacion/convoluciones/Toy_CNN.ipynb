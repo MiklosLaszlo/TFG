{
 "cells": [
  {
   "cell_type": "code",
   "execution_count": 1,
   "id": "a2d5a87f",
   "metadata": {},
   "outputs": [],
   "source": [
    "import torch\n",
    "import torch.nn as nn\n",
    "import torch.nn.functional as F\n",
    "import torch.optim as optim\n",
    "\n",
    "import numpy as np"
   ]
  },
  {
   "cell_type": "code",
   "execution_count": 2,
   "id": "0fc1cdf5",
   "metadata": {},
   "outputs": [],
   "source": [
    "def split_sequence(sequence, n_steps):\n",
    "    X, y = list(), list()\n",
    "    for i in range(len(sequence)):\n",
    "        # find the end of this pattern\n",
    "        end_ix = i + n_steps\n",
    "        # check if we are beyond the sequence\n",
    "        if end_ix > len(sequence)-1:\n",
    "            break\n",
    "        # gather input and output parts of the pattern\n",
    "        seq_x, seq_y = sequence[i:end_ix], sequence[end_ix]\n",
    "        X.append(seq_x)\n",
    "        y.append(seq_y)\n",
    "    return np.array(X), np.array(y)"
   ]
  },
  {
   "cell_type": "code",
   "execution_count": 3,
   "id": "47a6f5f0",
   "metadata": {
    "scrolled": true
   },
   "outputs": [
    {
     "name": "stdout",
     "output_type": "stream",
     "text": [
      "[10 20 30] 40\n",
      "[20 30 40] 50\n",
      "[30 40 50] 60\n",
      "[40 50 60] 70\n",
      "[50 60 70] 80\n",
      "[60 70 80] 90\n",
      "[70 80 90] 100\n"
     ]
    }
   ],
   "source": [
    "# define input sequence\n",
    "raw_seq = [10, 20, 30, 40, 50, 60, 70, 80, 90, 100]\n",
    "# choose a number of time steps\n",
    "n_steps = 3\n",
    "n_features = 1\n",
    "# split into samples\n",
    "X, y = split_sequence(raw_seq, n_steps)\n",
    "# summarize the data\n",
    "for i in range(len(X)):\n",
    "    print(X[i], y[i])"
   ]
  },
  {
   "cell_type": "code",
   "execution_count": 17,
   "id": "779ebf92",
   "metadata": {
    "scrolled": false
   },
   "outputs": [
    {
     "name": "stdout",
     "output_type": "stream",
     "text": [
      "Net(\n",
      "  (conv1): Conv1d(1, 3, kernel_size=(1,), stride=(1,))\n",
      "  (conv2): Conv1d(3, 6, kernel_size=(1,), stride=(1,))\n",
      "  (fc1): Linear(in_features=18, out_features=50, bias=True)\n",
      "  (fc2): Linear(in_features=50, out_features=1, bias=True)\n",
      ")\n"
     ]
    }
   ],
   "source": [
    "class Net(nn.Module):\n",
    "\n",
    "    def __init__(self):\n",
    "        super(Net, self).__init__()\n",
    "        # 1 input image channel, 6 output channels, 5x5 square convolution\n",
    "        # kernel\n",
    "        self.conv1 = nn.Conv1d(in_channels=1,out_channels=3, kernel_size=1) # Espera de input, [n_batch,n_channel,n_size], solo importa el n_channel y n_size\n",
    "        self.conv2 = nn.Conv1d(in_channels=3,out_channels=6, kernel_size=1)\n",
    "        # an affine operation: y = Wx + b\n",
    "        self.fc1 = nn.Linear(18,50)  # 5*5 from image dimension\n",
    "        self.fc2 = nn.Linear(50,1)\n",
    "\n",
    "    def forward(self, x):\n",
    "        x = F.relu(self.conv1(x))\n",
    "        x = F.relu(self.conv2(x))\n",
    "        x = torch.flatten(x, 1) # flatten all dimensions except the batch dimension\n",
    "        x = F.relu(self.fc1(x))\n",
    "        x = self.fc2(x)\n",
    "        return x\n",
    "\n",
    "\n",
    "net = Net().double()\n",
    "print(net)"
   ]
  },
  {
   "cell_type": "code",
   "execution_count": 18,
   "id": "e800eb5b",
   "metadata": {},
   "outputs": [
    {
     "data": {
      "text/plain": [
       "tensor([[[ 0.3116, -1.7767,  0.0327]],\n",
       "\n",
       "        [[ 0.9528,  0.8918,  1.7453]]])"
      ]
     },
     "execution_count": 18,
     "metadata": {},
     "output_type": "execute_result"
    }
   ],
   "source": [
    "torch.randn(2, 1, 3 )"
   ]
  },
  {
   "cell_type": "code",
   "execution_count": 19,
   "id": "b987f035",
   "metadata": {},
   "outputs": [],
   "source": [
    "# Crear batch con tensores\n",
    "    \n",
    "#input = torch.from_numpy(np.array(X,dtype=float).reshape((X.shape[0],1, X.shape[1]))).double()\n",
    "#input"
   ]
  },
  {
   "cell_type": "code",
   "execution_count": 20,
   "id": "ba064127",
   "metadata": {},
   "outputs": [],
   "source": [
    "#params = list(net.parameters())"
   ]
  },
  {
   "cell_type": "code",
   "execution_count": 21,
   "id": "d1a8dc3c",
   "metadata": {
    "scrolled": true
   },
   "outputs": [],
   "source": [
    "#out = net.forward(input)\n",
    "#out"
   ]
  },
  {
   "cell_type": "code",
   "execution_count": 22,
   "id": "a92d1bbd",
   "metadata": {},
   "outputs": [],
   "source": [
    "#net.zero_grad()\n",
    "#out.backward(torch.randn(6, 1))"
   ]
  },
  {
   "cell_type": "code",
   "execution_count": 23,
   "id": "995596a9",
   "metadata": {},
   "outputs": [],
   "source": [
    "#output = net(input)\n",
    "#target = torch.Tensor(y).double()  # a dummy target, for example\n",
    "#target = target.view(-1, 1)  # make it the same shape as output\n",
    "#criterion = nn.MSELoss()\n",
    "#target"
   ]
  },
  {
   "cell_type": "code",
   "execution_count": 24,
   "id": "51a898c8",
   "metadata": {},
   "outputs": [],
   "source": [
    "#loss = criterion(output, target)\n",
    "#print(loss)"
   ]
  },
  {
   "cell_type": "code",
   "execution_count": 25,
   "id": "6d73ca94",
   "metadata": {},
   "outputs": [],
   "source": [
    "#print(loss.grad_fn)  # MSELoss\n",
    "#print(loss.grad_fn.next_functions[0][0])  # Linear\n",
    "#print(loss.grad_fn.next_functions[0][0].next_functions[0][0])  # ReLU"
   ]
  },
  {
   "cell_type": "code",
   "execution_count": 26,
   "id": "9d12a097",
   "metadata": {},
   "outputs": [],
   "source": [
    "#net.zero_grad()     # zeroes the gradient buffers of all parameters\n",
    "\n",
    "#print('conv1.bias.grad before backward')\n",
    "#print(net.conv1.bias.grad)\n",
    "\n",
    "#loss.backward()\n",
    "\n",
    "#print('conv1.bias.grad after backward')\n",
    "#print(net.conv1.bias.grad)"
   ]
  },
  {
   "cell_type": "code",
   "execution_count": 32,
   "id": "3e63e1a1",
   "metadata": {},
   "outputs": [
    {
     "data": {
      "text/plain": [
       "array([[10, 20, 30],\n",
       "       [20, 30, 40],\n",
       "       [30, 40, 50],\n",
       "       [40, 50, 60],\n",
       "       [50, 60, 70],\n",
       "       [60, 70, 80],\n",
       "       [70, 80, 90]])"
      ]
     },
     "execution_count": 32,
     "metadata": {},
     "output_type": "execute_result"
    }
   ],
   "source": [
    "X"
   ]
  },
  {
   "cell_type": "code",
   "execution_count": 38,
   "id": "d60488ca",
   "metadata": {},
   "outputs": [],
   "source": [
    "## ENTRENEMOS LA RED\n",
    "n_epoc = 10000\n",
    "n_bacht = len(X)\n",
    "\n",
    "# Crear los batches\n",
    "tam_batch = int(len(X)/n_bacht)\n",
    "bacht_input = []\n",
    "for i in range(0,n_bacht):\n",
    "    bacht_input.append([X[i*tam_batch:(i+1)*tam_batch]])\n",
    "\n",
    "\n",
    "bacht_input = torch.from_numpy(np.array(bacht_input)).double()\n",
    "bacht_target = []\n",
    "for i in range(0,n_bacht):\n",
    "    bacht_target.append([y[i*tam_batch:(i+1)*tam_batch]])\n",
    "\n",
    "bacht_target = torch.from_numpy(np.array(bacht_target)).double()\n",
    "\n",
    "# Funcion de pérdida\n",
    "criterion = nn.MSELoss()\n",
    "\n",
    "    \n",
    "# create your optimizer\n",
    "optimizer = optim.SGD(net.parameters(), lr=0.01)\n",
    "\n",
    "# in your training loop:\n",
    "for i in range(0,n_epoc):\n",
    "    for j in range(0,n_bacht):\n",
    "        optimizer.zero_grad()   # zero the gradient buffers\n",
    "        output = net(bacht_input[j])\n",
    "        loss = criterion(output, bacht_target[j])\n",
    "        loss.backward()\n",
    "        optimizer.step()    # Does the update"
   ]
  },
  {
   "cell_type": "code",
   "execution_count": 39,
   "id": "8ce7dff7",
   "metadata": {},
   "outputs": [
    {
     "name": "stdout",
     "output_type": "stream",
     "text": [
      "tensor([[[ 80.,  90., 100.]]], dtype=torch.float64)\n"
     ]
    },
    {
     "data": {
      "text/plain": [
       "tensor([110.], dtype=torch.float64)"
      ]
     },
     "execution_count": 39,
     "metadata": {},
     "output_type": "execute_result"
    }
   ],
   "source": [
    "test = [80 , 90, 100]\n",
    "prediccion = [110]\n",
    "\n",
    "tensor_test = torch.from_numpy(np.array([[test]])).double()\n",
    "print(tensor_test)\n",
    "tensor_prediccion = torch.from_numpy(np.array(prediccion)).double()\n",
    "tensor_prediccion"
   ]
  },
  {
   "cell_type": "code",
   "execution_count": 40,
   "id": "7035d066",
   "metadata": {},
   "outputs": [
    {
     "data": {
      "text/plain": [
       "tensor([[70.8078]], dtype=torch.float64, grad_fn=<AddmmBackward0>)"
      ]
     },
     "execution_count": 40,
     "metadata": {},
     "output_type": "execute_result"
    }
   ],
   "source": [
    "net(tensor_test)"
   ]
  },
  {
   "cell_type": "code",
   "execution_count": null,
   "id": "184f13f6",
   "metadata": {},
   "outputs": [],
   "source": []
  }
 ],
 "metadata": {
  "kernelspec": {
   "display_name": "Python 3 (ipykernel)",
   "language": "python",
   "name": "python3"
  },
  "language_info": {
   "codemirror_mode": {
    "name": "ipython",
    "version": 3
   },
   "file_extension": ".py",
   "mimetype": "text/x-python",
   "name": "python",
   "nbconvert_exporter": "python",
   "pygments_lexer": "ipython3",
   "version": "3.9.13"
  }
 },
 "nbformat": 4,
 "nbformat_minor": 5
}
